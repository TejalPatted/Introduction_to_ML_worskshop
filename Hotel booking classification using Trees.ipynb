{
 "cells": [
  {
   "cell_type": "markdown",
   "metadata": {},
   "source": [
    "In this notebook we will build a classification model using DecisionTrees and Random forest classifier from python's scikit learn library"
   ]
  },
  {
   "cell_type": "markdown",
   "metadata": {},
   "source": [
    "## Table of contents\n",
    "1. Data Loading\n",
    "2. Data Exploration\n",
    "3. Visualization\n",
    "4. Preprocessing\n",
    "5. Decision Trees and hyperparameter analysis \n",
    "5. Random Forest\n",
    "6. Model comparision using ROC curve"
   ]
  },
  {
   "cell_type": "markdown",
   "metadata": {},
   "source": [
    "## Loading Data"
   ]
  },
  {
   "cell_type": "markdown",
   "metadata": {},
   "source": [
    "In this section we will import all the necessary packages and load the datasets we plan to work on. We will use the \n",
    "<a href='https://www.kaggle.com/jessemostipak/hotel-booking-demand'> Hotel booking data </a> and build a model to determine which customers will cancel their hotel booking"
   ]
  },
  {
   "cell_type": "code",
   "execution_count": 1,
   "metadata": {},
   "outputs": [],
   "source": [
    "import numpy as np\n",
    "import pandas as pd\n",
    "import seaborn as sns\n",
    "import matplotlib.pyplot as plt\n",
    "from pylab import *\n",
    "from matplotlib.legend_handler import HandlerLine2D\n",
    "from sklearn.tree import DecisionTreeClassifier\n",
    "from sklearn.ensemble import RandomForestClassifier\n",
    "from sklearn.naive_bayes import GaussianNB\n",
    "from sklearn.model_selection import train_test_split\n",
    "from sklearn import metrics\n",
    "from sklearn.preprocessing import LabelEncoder\n",
    "from sklearn.metrics import recall_score, precision_score, accuracy_score, f1_score\n",
    "from sklearn.metrics import confusion_matrix,auc,roc_auc_score,roc_curve\n",
    "import warnings\n",
    "warnings.filterwarnings('ignore')"
   ]
  },
  {
   "cell_type": "code",
   "execution_count": 2,
   "metadata": {},
   "outputs": [],
   "source": [
    "# Load the data\n",
    "# file_path = 'C:\\Users\\Tejal\\Documents\\Tejal\\WWC-siliconvalley\\hotel_bookings.csv'\n",
    "file_path='https://raw.githubusercontent.com/rfordatascience/tidytuesday/master/data/2020/2020-02-11/hotels.csv'\n",
    "df = pd.read_csv(file_path)"
   ]
  },
  {
   "cell_type": "markdown",
   "metadata": {},
   "source": [
    "## Explore the dataset"
   ]
  },
  {
   "cell_type": "markdown",
   "metadata": {},
   "source": [
    "Understanding the data, its features and distribution is a major part of builiding ML models. "
   ]
  },
  {
   "cell_type": "code",
   "execution_count": 380,
   "metadata": {},
   "outputs": [
    {
     "data": {
      "text/html": [
       "<div>\n",
       "<style scoped>\n",
       "    .dataframe tbody tr th:only-of-type {\n",
       "        vertical-align: middle;\n",
       "    }\n",
       "\n",
       "    .dataframe tbody tr th {\n",
       "        vertical-align: top;\n",
       "    }\n",
       "\n",
       "    .dataframe thead th {\n",
       "        text-align: right;\n",
       "    }\n",
       "</style>\n",
       "<table border=\"1\" class=\"dataframe\">\n",
       "  <thead>\n",
       "    <tr style=\"text-align: right;\">\n",
       "      <th></th>\n",
       "      <th>hotel</th>\n",
       "      <th>is_canceled</th>\n",
       "      <th>lead_time</th>\n",
       "      <th>arrival_date_year</th>\n",
       "      <th>arrival_date_month</th>\n",
       "      <th>arrival_date_week_number</th>\n",
       "      <th>arrival_date_day_of_month</th>\n",
       "      <th>stays_in_weekend_nights</th>\n",
       "      <th>stays_in_week_nights</th>\n",
       "      <th>adults</th>\n",
       "      <th>...</th>\n",
       "      <th>booking_changes</th>\n",
       "      <th>deposit_type</th>\n",
       "      <th>agent</th>\n",
       "      <th>days_in_waiting_list</th>\n",
       "      <th>customer_type</th>\n",
       "      <th>adr</th>\n",
       "      <th>required_car_parking_spaces</th>\n",
       "      <th>total_of_special_requests</th>\n",
       "      <th>reservation_status</th>\n",
       "      <th>reservation_status_date</th>\n",
       "    </tr>\n",
       "  </thead>\n",
       "  <tbody>\n",
       "    <tr>\n",
       "      <th>0</th>\n",
       "      <td>Resort Hotel</td>\n",
       "      <td>0</td>\n",
       "      <td>342</td>\n",
       "      <td>2015</td>\n",
       "      <td>July</td>\n",
       "      <td>27</td>\n",
       "      <td>1</td>\n",
       "      <td>0</td>\n",
       "      <td>0</td>\n",
       "      <td>2</td>\n",
       "      <td>...</td>\n",
       "      <td>3</td>\n",
       "      <td>No Deposit</td>\n",
       "      <td>0.0</td>\n",
       "      <td>0</td>\n",
       "      <td>Transient</td>\n",
       "      <td>0.0</td>\n",
       "      <td>0</td>\n",
       "      <td>0</td>\n",
       "      <td>Check-Out</td>\n",
       "      <td>2015-07-01</td>\n",
       "    </tr>\n",
       "    <tr>\n",
       "      <th>1</th>\n",
       "      <td>Resort Hotel</td>\n",
       "      <td>0</td>\n",
       "      <td>737</td>\n",
       "      <td>2015</td>\n",
       "      <td>July</td>\n",
       "      <td>27</td>\n",
       "      <td>1</td>\n",
       "      <td>0</td>\n",
       "      <td>0</td>\n",
       "      <td>2</td>\n",
       "      <td>...</td>\n",
       "      <td>4</td>\n",
       "      <td>No Deposit</td>\n",
       "      <td>0.0</td>\n",
       "      <td>0</td>\n",
       "      <td>Transient</td>\n",
       "      <td>0.0</td>\n",
       "      <td>0</td>\n",
       "      <td>0</td>\n",
       "      <td>Check-Out</td>\n",
       "      <td>2015-07-01</td>\n",
       "    </tr>\n",
       "    <tr>\n",
       "      <th>2</th>\n",
       "      <td>Resort Hotel</td>\n",
       "      <td>0</td>\n",
       "      <td>7</td>\n",
       "      <td>2015</td>\n",
       "      <td>July</td>\n",
       "      <td>27</td>\n",
       "      <td>1</td>\n",
       "      <td>0</td>\n",
       "      <td>1</td>\n",
       "      <td>1</td>\n",
       "      <td>...</td>\n",
       "      <td>0</td>\n",
       "      <td>No Deposit</td>\n",
       "      <td>0.0</td>\n",
       "      <td>0</td>\n",
       "      <td>Transient</td>\n",
       "      <td>75.0</td>\n",
       "      <td>0</td>\n",
       "      <td>0</td>\n",
       "      <td>Check-Out</td>\n",
       "      <td>2015-07-02</td>\n",
       "    </tr>\n",
       "    <tr>\n",
       "      <th>3</th>\n",
       "      <td>Resort Hotel</td>\n",
       "      <td>0</td>\n",
       "      <td>13</td>\n",
       "      <td>2015</td>\n",
       "      <td>July</td>\n",
       "      <td>27</td>\n",
       "      <td>1</td>\n",
       "      <td>0</td>\n",
       "      <td>1</td>\n",
       "      <td>1</td>\n",
       "      <td>...</td>\n",
       "      <td>0</td>\n",
       "      <td>No Deposit</td>\n",
       "      <td>304.0</td>\n",
       "      <td>0</td>\n",
       "      <td>Transient</td>\n",
       "      <td>75.0</td>\n",
       "      <td>0</td>\n",
       "      <td>0</td>\n",
       "      <td>Check-Out</td>\n",
       "      <td>2015-07-02</td>\n",
       "    </tr>\n",
       "    <tr>\n",
       "      <th>4</th>\n",
       "      <td>Resort Hotel</td>\n",
       "      <td>0</td>\n",
       "      <td>14</td>\n",
       "      <td>2015</td>\n",
       "      <td>July</td>\n",
       "      <td>27</td>\n",
       "      <td>1</td>\n",
       "      <td>0</td>\n",
       "      <td>2</td>\n",
       "      <td>2</td>\n",
       "      <td>...</td>\n",
       "      <td>0</td>\n",
       "      <td>No Deposit</td>\n",
       "      <td>240.0</td>\n",
       "      <td>0</td>\n",
       "      <td>Transient</td>\n",
       "      <td>98.0</td>\n",
       "      <td>0</td>\n",
       "      <td>1</td>\n",
       "      <td>Check-Out</td>\n",
       "      <td>2015-07-03</td>\n",
       "    </tr>\n",
       "  </tbody>\n",
       "</table>\n",
       "<p>5 rows × 31 columns</p>\n",
       "</div>"
      ],
      "text/plain": [
       "          hotel  is_canceled  lead_time  arrival_date_year arrival_date_month  \\\n",
       "0  Resort Hotel            0        342               2015               July   \n",
       "1  Resort Hotel            0        737               2015               July   \n",
       "2  Resort Hotel            0          7               2015               July   \n",
       "3  Resort Hotel            0         13               2015               July   \n",
       "4  Resort Hotel            0         14               2015               July   \n",
       "\n",
       "   arrival_date_week_number  arrival_date_day_of_month  \\\n",
       "0                        27                          1   \n",
       "1                        27                          1   \n",
       "2                        27                          1   \n",
       "3                        27                          1   \n",
       "4                        27                          1   \n",
       "\n",
       "   stays_in_weekend_nights  stays_in_week_nights  adults  ...  \\\n",
       "0                        0                     0       2  ...   \n",
       "1                        0                     0       2  ...   \n",
       "2                        0                     1       1  ...   \n",
       "3                        0                     1       1  ...   \n",
       "4                        0                     2       2  ...   \n",
       "\n",
       "   booking_changes  deposit_type  agent days_in_waiting_list customer_type  \\\n",
       "0                3    No Deposit    0.0                    0     Transient   \n",
       "1                4    No Deposit    0.0                    0     Transient   \n",
       "2                0    No Deposit    0.0                    0     Transient   \n",
       "3                0    No Deposit  304.0                    0     Transient   \n",
       "4                0    No Deposit  240.0                    0     Transient   \n",
       "\n",
       "    adr  required_car_parking_spaces  total_of_special_requests  \\\n",
       "0   0.0                            0                          0   \n",
       "1   0.0                            0                          0   \n",
       "2  75.0                            0                          0   \n",
       "3  75.0                            0                          0   \n",
       "4  98.0                            0                          1   \n",
       "\n",
       "   reservation_status reservation_status_date  \n",
       "0           Check-Out              2015-07-01  \n",
       "1           Check-Out              2015-07-01  \n",
       "2           Check-Out              2015-07-02  \n",
       "3           Check-Out              2015-07-02  \n",
       "4           Check-Out              2015-07-03  \n",
       "\n",
       "[5 rows x 31 columns]"
      ]
     },
     "execution_count": 380,
     "metadata": {},
     "output_type": "execute_result"
    }
   ],
   "source": [
    "df.head()"
   ]
  },
  {
   "cell_type": "code",
   "execution_count": 4,
   "metadata": {},
   "outputs": [
    {
     "data": {
      "text/plain": [
       "(119390, 32)"
      ]
     },
     "execution_count": 4,
     "metadata": {},
     "output_type": "execute_result"
    }
   ],
   "source": [
    "# Data has 119390 rows (data points) and 32 columns (features)\n",
    "df.shape   "
   ]
  },
  {
   "cell_type": "code",
   "execution_count": 6,
   "metadata": {},
   "outputs": [
    {
     "data": {
      "text/plain": [
       "hotel                              object\n",
       "is_canceled                         int64\n",
       "lead_time                           int64\n",
       "arrival_date_year                   int64\n",
       "arrival_date_month                 object\n",
       "arrival_date_week_number            int64\n",
       "arrival_date_day_of_month           int64\n",
       "stays_in_weekend_nights             int64\n",
       "stays_in_week_nights                int64\n",
       "adults                              int64\n",
       "children                          float64\n",
       "babies                              int64\n",
       "meal                               object\n",
       "country                            object\n",
       "market_segment                     object\n",
       "distribution_channel               object\n",
       "is_repeated_guest                   int64\n",
       "previous_cancellations              int64\n",
       "previous_bookings_not_canceled      int64\n",
       "reserved_room_type                 object\n",
       "assigned_room_type                 object\n",
       "booking_changes                     int64\n",
       "deposit_type                       object\n",
       "agent                             float64\n",
       "company                           float64\n",
       "days_in_waiting_list                int64\n",
       "customer_type                      object\n",
       "adr                               float64\n",
       "required_car_parking_spaces         int64\n",
       "total_of_special_requests           int64\n",
       "reservation_status                 object\n",
       "reservation_status_date            object\n",
       "dtype: object"
      ]
     },
     "execution_count": 6,
     "metadata": {},
     "output_type": "execute_result"
    }
   ],
   "source": [
    "# Check the datatype of features\n",
    "df.dtypes"
   ]
  },
  {
   "cell_type": "code",
   "execution_count": 7,
   "metadata": {},
   "outputs": [
    {
     "data": {
      "text/plain": [
       "Index([u'hotel', u'is_canceled', u'lead_time', u'arrival_date_year',\n",
       "       u'arrival_date_month', u'arrival_date_week_number',\n",
       "       u'arrival_date_day_of_month', u'stays_in_weekend_nights',\n",
       "       u'stays_in_week_nights', u'adults', u'children', u'babies', u'meal',\n",
       "       u'country', u'market_segment', u'distribution_channel',\n",
       "       u'is_repeated_guest', u'previous_cancellations',\n",
       "       u'previous_bookings_not_canceled', u'reserved_room_type',\n",
       "       u'assigned_room_type', u'booking_changes', u'deposit_type', u'agent',\n",
       "       u'company', u'days_in_waiting_list', u'customer_type', u'adr',\n",
       "       u'required_car_parking_spaces', u'total_of_special_requests',\n",
       "       u'reservation_status', u'reservation_status_date'],\n",
       "      dtype='object')"
      ]
     },
     "execution_count": 7,
     "metadata": {},
     "output_type": "execute_result"
    }
   ],
   "source": [
    "# Feature list \n",
    "df.columns"
   ]
  },
  {
   "cell_type": "code",
   "execution_count": 10,
   "metadata": {},
   "outputs": [
    {
     "data": {
      "text/html": [
       "<div>\n",
       "<style scoped>\n",
       "    .dataframe tbody tr th:only-of-type {\n",
       "        vertical-align: middle;\n",
       "    }\n",
       "\n",
       "    .dataframe tbody tr th {\n",
       "        vertical-align: top;\n",
       "    }\n",
       "\n",
       "    .dataframe thead th {\n",
       "        text-align: right;\n",
       "    }\n",
       "</style>\n",
       "<table border=\"1\" class=\"dataframe\">\n",
       "  <thead>\n",
       "    <tr style=\"text-align: right;\">\n",
       "      <th></th>\n",
       "      <th>column_name</th>\n",
       "      <th>percent_missing</th>\n",
       "    </tr>\n",
       "  </thead>\n",
       "  <tbody>\n",
       "    <tr>\n",
       "      <th>company</th>\n",
       "      <td>company</td>\n",
       "      <td>94.306893</td>\n",
       "    </tr>\n",
       "    <tr>\n",
       "      <th>agent</th>\n",
       "      <td>agent</td>\n",
       "      <td>13.686238</td>\n",
       "    </tr>\n",
       "    <tr>\n",
       "      <th>country</th>\n",
       "      <td>country</td>\n",
       "      <td>0.408744</td>\n",
       "    </tr>\n",
       "    <tr>\n",
       "      <th>children</th>\n",
       "      <td>children</td>\n",
       "      <td>0.003350</td>\n",
       "    </tr>\n",
       "    <tr>\n",
       "      <th>reserved_room_type</th>\n",
       "      <td>reserved_room_type</td>\n",
       "      <td>0.000000</td>\n",
       "    </tr>\n",
       "    <tr>\n",
       "      <th>assigned_room_type</th>\n",
       "      <td>assigned_room_type</td>\n",
       "      <td>0.000000</td>\n",
       "    </tr>\n",
       "    <tr>\n",
       "      <th>booking_changes</th>\n",
       "      <td>booking_changes</td>\n",
       "      <td>0.000000</td>\n",
       "    </tr>\n",
       "    <tr>\n",
       "      <th>deposit_type</th>\n",
       "      <td>deposit_type</td>\n",
       "      <td>0.000000</td>\n",
       "    </tr>\n",
       "    <tr>\n",
       "      <th>hotel</th>\n",
       "      <td>hotel</td>\n",
       "      <td>0.000000</td>\n",
       "    </tr>\n",
       "    <tr>\n",
       "      <th>previous_cancellations</th>\n",
       "      <td>previous_cancellations</td>\n",
       "      <td>0.000000</td>\n",
       "    </tr>\n",
       "    <tr>\n",
       "      <th>days_in_waiting_list</th>\n",
       "      <td>days_in_waiting_list</td>\n",
       "      <td>0.000000</td>\n",
       "    </tr>\n",
       "    <tr>\n",
       "      <th>customer_type</th>\n",
       "      <td>customer_type</td>\n",
       "      <td>0.000000</td>\n",
       "    </tr>\n",
       "    <tr>\n",
       "      <th>adr</th>\n",
       "      <td>adr</td>\n",
       "      <td>0.000000</td>\n",
       "    </tr>\n",
       "    <tr>\n",
       "      <th>required_car_parking_spaces</th>\n",
       "      <td>required_car_parking_spaces</td>\n",
       "      <td>0.000000</td>\n",
       "    </tr>\n",
       "    <tr>\n",
       "      <th>total_of_special_requests</th>\n",
       "      <td>total_of_special_requests</td>\n",
       "      <td>0.000000</td>\n",
       "    </tr>\n",
       "    <tr>\n",
       "      <th>reservation_status</th>\n",
       "      <td>reservation_status</td>\n",
       "      <td>0.000000</td>\n",
       "    </tr>\n",
       "    <tr>\n",
       "      <th>previous_bookings_not_canceled</th>\n",
       "      <td>previous_bookings_not_canceled</td>\n",
       "      <td>0.000000</td>\n",
       "    </tr>\n",
       "    <tr>\n",
       "      <th>is_repeated_guest</th>\n",
       "      <td>is_repeated_guest</td>\n",
       "      <td>0.000000</td>\n",
       "    </tr>\n",
       "    <tr>\n",
       "      <th>is_canceled</th>\n",
       "      <td>is_canceled</td>\n",
       "      <td>0.000000</td>\n",
       "    </tr>\n",
       "    <tr>\n",
       "      <th>distribution_channel</th>\n",
       "      <td>distribution_channel</td>\n",
       "      <td>0.000000</td>\n",
       "    </tr>\n",
       "    <tr>\n",
       "      <th>market_segment</th>\n",
       "      <td>market_segment</td>\n",
       "      <td>0.000000</td>\n",
       "    </tr>\n",
       "    <tr>\n",
       "      <th>meal</th>\n",
       "      <td>meal</td>\n",
       "      <td>0.000000</td>\n",
       "    </tr>\n",
       "    <tr>\n",
       "      <th>babies</th>\n",
       "      <td>babies</td>\n",
       "      <td>0.000000</td>\n",
       "    </tr>\n",
       "    <tr>\n",
       "      <th>adults</th>\n",
       "      <td>adults</td>\n",
       "      <td>0.000000</td>\n",
       "    </tr>\n",
       "    <tr>\n",
       "      <th>stays_in_week_nights</th>\n",
       "      <td>stays_in_week_nights</td>\n",
       "      <td>0.000000</td>\n",
       "    </tr>\n",
       "    <tr>\n",
       "      <th>stays_in_weekend_nights</th>\n",
       "      <td>stays_in_weekend_nights</td>\n",
       "      <td>0.000000</td>\n",
       "    </tr>\n",
       "    <tr>\n",
       "      <th>arrival_date_day_of_month</th>\n",
       "      <td>arrival_date_day_of_month</td>\n",
       "      <td>0.000000</td>\n",
       "    </tr>\n",
       "    <tr>\n",
       "      <th>arrival_date_week_number</th>\n",
       "      <td>arrival_date_week_number</td>\n",
       "      <td>0.000000</td>\n",
       "    </tr>\n",
       "    <tr>\n",
       "      <th>arrival_date_month</th>\n",
       "      <td>arrival_date_month</td>\n",
       "      <td>0.000000</td>\n",
       "    </tr>\n",
       "    <tr>\n",
       "      <th>arrival_date_year</th>\n",
       "      <td>arrival_date_year</td>\n",
       "      <td>0.000000</td>\n",
       "    </tr>\n",
       "    <tr>\n",
       "      <th>lead_time</th>\n",
       "      <td>lead_time</td>\n",
       "      <td>0.000000</td>\n",
       "    </tr>\n",
       "    <tr>\n",
       "      <th>reservation_status_date</th>\n",
       "      <td>reservation_status_date</td>\n",
       "      <td>0.000000</td>\n",
       "    </tr>\n",
       "  </tbody>\n",
       "</table>\n",
       "</div>"
      ],
      "text/plain": [
       "                                                   column_name  \\\n",
       "company                                                company   \n",
       "agent                                                    agent   \n",
       "country                                                country   \n",
       "children                                              children   \n",
       "reserved_room_type                          reserved_room_type   \n",
       "assigned_room_type                          assigned_room_type   \n",
       "booking_changes                                booking_changes   \n",
       "deposit_type                                      deposit_type   \n",
       "hotel                                                    hotel   \n",
       "previous_cancellations                  previous_cancellations   \n",
       "days_in_waiting_list                      days_in_waiting_list   \n",
       "customer_type                                    customer_type   \n",
       "adr                                                        adr   \n",
       "required_car_parking_spaces        required_car_parking_spaces   \n",
       "total_of_special_requests            total_of_special_requests   \n",
       "reservation_status                          reservation_status   \n",
       "previous_bookings_not_canceled  previous_bookings_not_canceled   \n",
       "is_repeated_guest                            is_repeated_guest   \n",
       "is_canceled                                        is_canceled   \n",
       "distribution_channel                      distribution_channel   \n",
       "market_segment                                  market_segment   \n",
       "meal                                                      meal   \n",
       "babies                                                  babies   \n",
       "adults                                                  adults   \n",
       "stays_in_week_nights                      stays_in_week_nights   \n",
       "stays_in_weekend_nights                stays_in_weekend_nights   \n",
       "arrival_date_day_of_month            arrival_date_day_of_month   \n",
       "arrival_date_week_number              arrival_date_week_number   \n",
       "arrival_date_month                          arrival_date_month   \n",
       "arrival_date_year                            arrival_date_year   \n",
       "lead_time                                            lead_time   \n",
       "reservation_status_date                reservation_status_date   \n",
       "\n",
       "                                percent_missing  \n",
       "company                               94.306893  \n",
       "agent                                 13.686238  \n",
       "country                                0.408744  \n",
       "children                               0.003350  \n",
       "reserved_room_type                     0.000000  \n",
       "assigned_room_type                     0.000000  \n",
       "booking_changes                        0.000000  \n",
       "deposit_type                           0.000000  \n",
       "hotel                                  0.000000  \n",
       "previous_cancellations                 0.000000  \n",
       "days_in_waiting_list                   0.000000  \n",
       "customer_type                          0.000000  \n",
       "adr                                    0.000000  \n",
       "required_car_parking_spaces            0.000000  \n",
       "total_of_special_requests              0.000000  \n",
       "reservation_status                     0.000000  \n",
       "previous_bookings_not_canceled         0.000000  \n",
       "is_repeated_guest                      0.000000  \n",
       "is_canceled                            0.000000  \n",
       "distribution_channel                   0.000000  \n",
       "market_segment                         0.000000  \n",
       "meal                                   0.000000  \n",
       "babies                                 0.000000  \n",
       "adults                                 0.000000  \n",
       "stays_in_week_nights                   0.000000  \n",
       "stays_in_weekend_nights                0.000000  \n",
       "arrival_date_day_of_month              0.000000  \n",
       "arrival_date_week_number               0.000000  \n",
       "arrival_date_month                     0.000000  \n",
       "arrival_date_year                      0.000000  \n",
       "lead_time                              0.000000  \n",
       "reservation_status_date                0.000000  "
      ]
     },
     "execution_count": 10,
     "metadata": {},
     "output_type": "execute_result"
    }
   ],
   "source": [
    "# Check for null values\n",
    "percent_missing = df.isnull().sum() * 100 / len(df)\n",
    "missing_value_df = pd.DataFrame({'column_name': df.columns,\n",
    "                                 'percent_missing': percent_missing})\n",
    "missing_value_df.sort_values('percent_missing', ascending=False,inplace=True)\n",
    "missing_value_df"
   ]
  },
  {
   "cell_type": "markdown",
   "metadata": {},
   "source": [
    "Company, agent, country and children have null values. There are multiple techniques for imputing null value but for simplicity we impute them with 0. As company has a very high null value percentage we will drop the column"
   ]
  },
  {
   "cell_type": "code",
   "execution_count": 61,
   "metadata": {},
   "outputs": [],
   "source": [
    "# Let us create a copy of dataframe for backup and impute null with 0\n",
    "backup_df=df.copy\n",
    "df = df.drop('company',axis=1)\n",
    "df=df.fillna(0)"
   ]
  },
  {
   "cell_type": "code",
   "execution_count": 5,
   "metadata": {},
   "outputs": [
    {
     "data": {
      "text/plain": [
       "0"
      ]
     },
     "execution_count": 5,
     "metadata": {},
     "output_type": "execute_result"
    }
   ],
   "source": [
    "# The df has no Null values\n",
    "(df['agent'].isnull().sum()/len(df)) * 100"
   ]
  },
  {
   "cell_type": "markdown",
   "metadata": {},
   "source": [
    "## Data Visualization"
   ]
  },
  {
   "cell_type": "markdown",
   "metadata": {},
   "source": [
    "In this task, our target variable is is_cancelled which indicates if the booking was cancelled. 1 --> canceled, 0 --> Not canceled "
   ]
  },
  {
   "cell_type": "code",
   "execution_count": 15,
   "metadata": {},
   "outputs": [
    {
     "data": {
      "text/plain": [
       "<matplotlib.axes._subplots.AxesSubplot at 0xedb4b38>"
      ]
     },
     "execution_count": 15,
     "metadata": {},
     "output_type": "execute_result"
    },
    {
     "data": {
      "image/png": "[encoded data removed]",
      "text/plain": [
       "<Figure size 432x288 with 1 Axes>"
      ]
     },
     "metadata": {},
     "output_type": "display_data"
    }
   ],
   "source": [
    "df['is_canceled'].value_counts().plot(kind='pie',autopct='%1.1f%%')"
   ]
  },
  {
   "cell_type": "markdown",
   "metadata": {},
   "source": [
    "37% customers have cancelled their bookings. we see that our data in imbalanced"
   ]
  },
  {
   "cell_type": "code",
   "execution_count": 292,
   "metadata": {},
   "outputs": [
    {
     "data": {
      "text/plain": [
       "Index([u'hotel', u'is_canceled', u'lead_time', u'arrival_date_year',\n",
       "       u'arrival_date_month', u'arrival_date_week_number',\n",
       "       u'arrival_date_day_of_month', u'stays_in_weekend_nights',\n",
       "       u'stays_in_week_nights', u'adults', u'children', u'babies', u'meal',\n",
       "       u'country', u'market_segment', u'distribution_channel',\n",
       "       u'is_repeated_guest', u'previous_cancellations',\n",
       "       u'previous_bookings_not_canceled', u'reserved_room_type',\n",
       "       u'assigned_room_type', u'booking_changes', u'deposit_type', u'agent',\n",
       "       u'days_in_waiting_list', u'customer_type', u'adr',\n",
       "       u'required_car_parking_spaces', u'total_of_special_requests',\n",
       "       u'reservation_status', u'reservation_status_date'],\n",
       "      dtype='object')"
      ]
     },
     "execution_count": 292,
     "metadata": {},
     "output_type": "execute_result"
    }
   ],
   "source": [
    "df.columns"
   ]
  },
  {
   "cell_type": "code",
   "execution_count": 37,
   "metadata": {},
   "outputs": [
    {
     "data": {
      "text/plain": [
       "<matplotlib.axes._subplots.AxesSubplot at 0xe400550>"
      ]
     },
     "execution_count": 37,
     "metadata": {},
     "output_type": "execute_result"
    },
    {
     "data": {
      "image/png": "[encoded data removed]",
      "text/plain": [
       "<Figure size 432x288 with 1 Axes>"
      ]
     },
     "metadata": {},
     "output_type": "display_data"
    }
   ],
   "source": [
    "# Hotel feature count and distribution across 0 and 1 class \n",
    "df['hotel'].value_counts().plot(kind='pie',autopct='%1.1f%%')"
   ]
  },
  {
   "cell_type": "code",
   "execution_count": 36,
   "metadata": {},
   "outputs": [
    {
     "data": {
      "text/plain": [
       "<matplotlib.axes._subplots.AxesSubplot at 0x111c07f0>"
      ]
     },
     "execution_count": 36,
     "metadata": {},
     "output_type": "execute_result"
    },
    {
     "data": {
      "image/png": "[encoded data removed]",
      "text/plain": [
       "<Figure size 432x288 with 1 Axes>"
      ]
     },
     "metadata": {
      "needs_background": "light"
     },
     "output_type": "display_data"
    }
   ],
   "source": [
    "sns.countplot(x='is_canceled',hue='hotel',data=df)"
   ]
  },
  {
   "cell_type": "markdown",
   "metadata": {},
   "source": [
    "As data has higher city hotel reservation data points compared to resort, above observation is on par with  same trend"
   ]
  },
  {
   "cell_type": "code",
   "execution_count": 38,
   "metadata": {},
   "outputs": [
    {
     "data": {
      "text/plain": [
       "<matplotlib.axes._subplots.AxesSubplot at 0xeabe0b8>"
      ]
     },
     "execution_count": 38,
     "metadata": {},
     "output_type": "execute_result"
    },
    {
     "data": {
      "image/png": "[encoded data removed]",
      "text/plain": [
       "<Figure size 432x288 with 1 Axes>"
      ]
     },
     "metadata": {
      "needs_background": "light"
     },
     "output_type": "display_data"
    }
   ],
   "source": [
    "#market segments\n",
    "df.groupby(['market_segment'])['is_canceled'].count().plot(kind='bar')"
   ]
  },
  {
   "cell_type": "markdown",
   "metadata": {},
   "source": [
    "## Feature Engineering"
   ]
  },
  {
   "cell_type": "markdown",
   "metadata": {},
   "source": [
    "1. Derive new features using existing features\n",
    "2. Remove irrelevant features\n",
    "3. Transform existing features\n",
    "4. Encoding categorical variables"
   ]
  },
  {
   "cell_type": "code",
   "execution_count": 381,
   "metadata": {},
   "outputs": [],
   "source": [
    "# Split data into train validation & test set in train:val:test=60:20:20 size\n",
    "# We are splitting the data into 3 chunks as we will be tuning many hyperparameters in this notebook\n",
    "train, val_test = train_test_split(df, test_size=0.4, random_state = 42)\n",
    "val, test = train_test_split(val_test, test_size=0.5, random_state = 42)"
   ]
  },
  {
   "cell_type": "code",
   "execution_count": 295,
   "metadata": {},
   "outputs": [
    {
     "data": {
      "text/plain": [
       "(71634, 31)"
      ]
     },
     "execution_count": 295,
     "metadata": {},
     "output_type": "execute_result"
    }
   ],
   "source": [
    "train.shape"
   ]
  },
  {
   "cell_type": "code",
   "execution_count": 64,
   "metadata": {},
   "outputs": [
    {
     "data": {
      "text/plain": [
       "(23878, 31)"
      ]
     },
     "execution_count": 64,
     "metadata": {},
     "output_type": "execute_result"
    }
   ],
   "source": [
    "test.shape"
   ]
  },
  {
   "cell_type": "code",
   "execution_count": 65,
   "metadata": {},
   "outputs": [
    {
     "data": {
      "text/plain": [
       "(23878, 31)"
      ]
     },
     "execution_count": 65,
     "metadata": {},
     "output_type": "execute_result"
    }
   ],
   "source": [
    "val.shape"
   ]
  },
  {
   "cell_type": "code",
   "execution_count": 296,
   "metadata": {},
   "outputs": [],
   "source": [
    "#Let us add weekend stay and weekday stay days to get total days of stay\n",
    "train['total_days'] = train['stays_in_week_nights'] + train['stays_in_weekend_nights']\n",
    "test['total_days'] = test['stays_in_week_nights'] + test['stays_in_weekend_nights']\n",
    "val['total_days'] = val['stays_in_week_nights'] + val['stays_in_weekend_nights']\n",
    "\n",
    "# drop the weekend stay and weekday stay days features\n",
    "train = train.drop('stays_in_week_nights',axis=1).drop('stays_in_weekend_nights',axis=1)\n",
    "test = test.drop('stays_in_week_nights',axis=1).drop('stays_in_weekend_nights',axis=1)\n",
    "val = val.drop('stays_in_week_nights',axis=1).drop('stays_in_weekend_nights',axis=1)"
   ]
  },
  {
   "cell_type": "code",
   "execution_count": 67,
   "metadata": {},
   "outputs": [
    {
     "data": {
      "image/png": "[encoded data removed]",
      "text/plain": [
       "<Figure size 1440x1440 with 2 Axes>"
      ]
     },
     "metadata": {},
     "output_type": "display_data"
    }
   ],
   "source": [
    "train_0=train[(train['is_canceled']==0)]\n",
    "train_1=train[train['is_canceled']==1]\n",
    "sns.set(rc={\"figure.figsize\": (20, 20)})\n",
    "subplot(2,2,1)\n",
    "ax = sns.distplot(train_0['total_days'], bins=100, color='r')\n",
    "subplot(2,2,2)\n",
    "ax=sns.distplot(train_1['total_days'], bins=100, color='g')"
   ]
  },
  {
   "cell_type": "code",
   "execution_count": 297,
   "metadata": {},
   "outputs": [],
   "source": [
    "#Total customers\n",
    "train['total_customers'] = train['adults'] + train['children']+train['babies']\n",
    "test['total_customers'] = test['adults'] + test['children']+test['babies']\n",
    "val['total_customers'] = val['adults'] + val['children']+val['babies']\n",
    "\n",
    "\n",
    "train = train.drop('adults',axis=1).drop('children',axis=1).drop('babies',axis=1)\n",
    "test = test.drop('adults',axis=1).drop('children',axis=1).drop('babies',axis=1)\n",
    "val = val.drop('adults',axis=1).drop('children',axis=1).drop('babies',axis=1)"
   ]
  },
  {
   "cell_type": "code",
   "execution_count": 69,
   "metadata": {},
   "outputs": [
    {
     "data": {
      "text/plain": [
       "<matplotlib.axes._subplots.AxesSubplot at 0xe88bba8>"
      ]
     },
     "execution_count": 69,
     "metadata": {},
     "output_type": "execute_result"
    },
    {
     "data": {
      "image/png": "[encoded data removed]",
      "text/plain": [
       "<Figure size 360x360 with 1 Axes>"
      ]
     },
     "metadata": {},
     "output_type": "display_data"
    }
   ],
   "source": [
    "train['total_customers'].value_counts().plot('bar',figsize=(5,5)) "
   ]
  },
  {
   "cell_type": "code",
   "execution_count": 298,
   "metadata": {},
   "outputs": [],
   "source": [
    "train = train.drop(['reservation_status_date'],axis=1)\n",
    "test = test.drop(['reservation_status_date'],axis=1)\n",
    "val = val.drop(['reservation_status_date'],axis=1)"
   ]
  },
  {
   "cell_type": "code",
   "execution_count": 299,
   "metadata": {},
   "outputs": [
    {
     "name": "stdout",
     "output_type": "stream",
     "text": [
      "309\n"
     ]
    }
   ],
   "source": [
    "print (len(train['agent'].unique())) # 309 unique values - Large number of unique agents and it is categorical, difficult to encode\n",
    "train = train.drop('agent',axis=1)\n",
    "test = test.drop('agent',axis=1)\n",
    "val = val.drop('agent',axis=1)"
   ]
  },
  {
   "cell_type": "code",
   "execution_count": 300,
   "metadata": {},
   "outputs": [
    {
     "name": "stdout",
     "output_type": "stream",
     "text": [
      "160\n"
     ]
    }
   ],
   "source": [
    "print(len(train['country'].unique())) # 160 countries\n",
    "train = train.drop('country',axis=1)\n",
    "test = test.drop('country',axis=1)\n",
    "val = val.drop('country',axis=1)"
   ]
  },
  {
   "cell_type": "code",
   "execution_count": 55,
   "metadata": {},
   "outputs": [
    {
     "data": {
      "text/plain": [
       "array([[<matplotlib.axes._subplots.AxesSubplot object at 0x0000000011DD5470>]],\n",
       "      dtype=object)"
      ]
     },
     "execution_count": 55,
     "metadata": {},
     "output_type": "execute_result"
    },
    {
     "data": {
      "image/png": "[encoded data removed]",
      "text/plain": [
       "<Figure size 720x360 with 1 Axes>"
      ]
     },
     "metadata": {},
     "output_type": "display_data"
    }
   ],
   "source": [
    "train.hist(column='previous_bookings_not_canceled',bins=20,figsize=(10,5))"
   ]
  },
  {
   "cell_type": "code",
   "execution_count": 301,
   "metadata": {},
   "outputs": [],
   "source": [
    "#train['previous_bookings_not_canceled'].value_counts() # We observe that most data has value = 0; hence we drop the feature\n",
    "#train.groupby(['is_canceled'])['previous_bookings_not_canceled'].value_counts() # We observe that data distribution across both class is remains same\n",
    "train = train.drop('previous_bookings_not_canceled',axis=1)\n",
    "test = test.drop('previous_bookings_not_canceled',axis=1)\n",
    "val = val.drop('previous_bookings_not_canceled',axis=1)"
   ]
  },
  {
   "cell_type": "code",
   "execution_count": 302,
   "metadata": {},
   "outputs": [
    {
     "data": {
      "image/png": "[encoded data removed]",
      "text/plain": [
       "<Figure size 360x360 with 1 Axes>"
      ]
     },
     "metadata": {},
     "output_type": "display_data"
    }
   ],
   "source": [
    "train.groupby(['is_canceled'])['previous_cancellations'].value_counts().plot('bar',figsize=(5,5))\n",
    "# We observe that most data has value = 0; and trend remains same across the 2 classes\n",
    "train = train.drop('previous_cancellations',axis=1)\n",
    "test = test.drop('previous_cancellations',axis=1)\n",
    "val = val.drop('previous_cancellations',axis=1)"
   ]
  },
  {
   "cell_type": "code",
   "execution_count": 303,
   "metadata": {},
   "outputs": [
    {
     "data": {
      "text/plain": [
       "23"
      ]
     },
     "execution_count": 303,
     "metadata": {},
     "output_type": "execute_result"
    }
   ],
   "source": [
    "len(train.columns)"
   ]
  },
  {
   "cell_type": "markdown",
   "metadata": {},
   "source": [
    "## Feature Correlation"
   ]
  },
  {
   "cell_type": "code",
   "execution_count": 304,
   "metadata": {},
   "outputs": [],
   "source": [
    "backup_train = train.copy()\n",
    "backup_test = test.copy()\n",
    "backup_val = val.copy()"
   ]
  },
  {
   "cell_type": "code",
   "execution_count": 323,
   "metadata": {},
   "outputs": [],
   "source": [
    "#Custom encoding\n",
    "train['arrival_date_month'] = train['arrival_date_month'].map({'January':1, 'February': 2, 'March':3, \\\n",
    "                                                         'April':4, 'May':5, 'June':6, 'July':7,\\\n",
    "                                                         'August':8, 'September':9, 'October':10, \\\n",
    "                                                         'November':11, 'December':12})"
   ]
  },
  {
   "cell_type": "code",
   "execution_count": 324,
   "metadata": {},
   "outputs": [],
   "source": [
    "encode = LabelEncoder()"
   ]
  },
  {
   "cell_type": "code",
   "execution_count": 316,
   "metadata": {},
   "outputs": [
    {
     "data": {
      "text/plain": [
       "Index([u'hotel', u'is_canceled', u'lead_time', u'arrival_date_year',\n",
       "       u'arrival_date_month', u'arrival_date_week_number',\n",
       "       u'arrival_date_day_of_month', u'meal', u'market_segment',\n",
       "       u'distribution_channel', u'is_repeated_guest', u'reserved_room_type',\n",
       "       u'assigned_room_type', u'booking_changes', u'deposit_type',\n",
       "       u'days_in_waiting_list', u'customer_type', u'adr',\n",
       "       u'required_car_parking_spaces', u'total_of_special_requests',\n",
       "       u'reservation_status', u'total_days', u'total_customers'],\n",
       "      dtype='object')"
      ]
     },
     "execution_count": 316,
     "metadata": {},
     "output_type": "execute_result"
    }
   ],
   "source": [
    "train.columns"
   ]
  },
  {
   "cell_type": "code",
   "execution_count": 80,
   "metadata": {},
   "outputs": [
    {
     "data": {
      "text/plain": [
       "array(['Offline TA/TO', 'Groups', 'Direct', 'Corporate', 'Online TA',\n",
       "       'Aviation', 'Complementary', 'Undefined'], dtype=object)"
      ]
     },
     "execution_count": 80,
     "metadata": {},
     "output_type": "execute_result"
    }
   ],
   "source": [
    "train['market_segment'].unique()"
   ]
  },
  {
   "cell_type": "code",
   "execution_count": 327,
   "metadata": {},
   "outputs": [],
   "source": [
    "cat_col=['hotel','arrival_date_year','meal','market_segment','distribution_channel','reserved_room_type', 'assigned_room_type',\\\n",
    "        'deposit_type','customer_type','reservation_status']\n",
    "for i in cat_col:\n",
    "    train[i] = encode.fit_transform(train[i])"
   ]
  },
  {
   "cell_type": "code",
   "execution_count": 328,
   "metadata": {},
   "outputs": [
    {
     "data": {
      "text/plain": [
       "array([5, 4, 3, 2, 6, 0, 1, 7], dtype=int64)"
      ]
     },
     "execution_count": 328,
     "metadata": {},
     "output_type": "execute_result"
    }
   ],
   "source": [
    "train['market_segment'].unique()"
   ]
  },
  {
   "cell_type": "code",
   "execution_count": 329,
   "metadata": {},
   "outputs": [
    {
     "data": {
      "text/html": [
       "<div>\n",
       "<style scoped>\n",
       "    .dataframe tbody tr th:only-of-type {\n",
       "        vertical-align: middle;\n",
       "    }\n",
       "\n",
       "    .dataframe tbody tr th {\n",
       "        vertical-align: top;\n",
       "    }\n",
       "\n",
       "    .dataframe thead th {\n",
       "        text-align: right;\n",
       "    }\n",
       "</style>\n",
       "<table border=\"1\" class=\"dataframe\">\n",
       "  <thead>\n",
       "    <tr style=\"text-align: right;\">\n",
       "      <th></th>\n",
       "      <th>hotel</th>\n",
       "      <th>is_canceled</th>\n",
       "      <th>lead_time</th>\n",
       "      <th>arrival_date_year</th>\n",
       "      <th>arrival_date_month</th>\n",
       "      <th>arrival_date_week_number</th>\n",
       "      <th>arrival_date_day_of_month</th>\n",
       "      <th>meal</th>\n",
       "      <th>market_segment</th>\n",
       "      <th>distribution_channel</th>\n",
       "      <th>...</th>\n",
       "      <th>booking_changes</th>\n",
       "      <th>deposit_type</th>\n",
       "      <th>days_in_waiting_list</th>\n",
       "      <th>customer_type</th>\n",
       "      <th>adr</th>\n",
       "      <th>required_car_parking_spaces</th>\n",
       "      <th>total_of_special_requests</th>\n",
       "      <th>reservation_status</th>\n",
       "      <th>total_days</th>\n",
       "      <th>total_customers</th>\n",
       "    </tr>\n",
       "  </thead>\n",
       "  <tbody>\n",
       "    <tr>\n",
       "      <th>71397</th>\n",
       "      <td>0</td>\n",
       "      <td>1</td>\n",
       "      <td>465</td>\n",
       "      <td>2</td>\n",
       "      <td>7</td>\n",
       "      <td>27</td>\n",
       "      <td>4</td>\n",
       "      <td>0</td>\n",
       "      <td>5</td>\n",
       "      <td>3</td>\n",
       "      <td>...</td>\n",
       "      <td>0</td>\n",
       "      <td>1</td>\n",
       "      <td>0</td>\n",
       "      <td>2</td>\n",
       "      <td>90.0</td>\n",
       "      <td>0</td>\n",
       "      <td>0</td>\n",
       "      <td>0</td>\n",
       "      <td>1</td>\n",
       "      <td>2.0</td>\n",
       "    </tr>\n",
       "    <tr>\n",
       "      <th>52819</th>\n",
       "      <td>0</td>\n",
       "      <td>1</td>\n",
       "      <td>69</td>\n",
       "      <td>1</td>\n",
       "      <td>6</td>\n",
       "      <td>25</td>\n",
       "      <td>12</td>\n",
       "      <td>0</td>\n",
       "      <td>5</td>\n",
       "      <td>3</td>\n",
       "      <td>...</td>\n",
       "      <td>0</td>\n",
       "      <td>1</td>\n",
       "      <td>0</td>\n",
       "      <td>2</td>\n",
       "      <td>120.0</td>\n",
       "      <td>0</td>\n",
       "      <td>0</td>\n",
       "      <td>0</td>\n",
       "      <td>6</td>\n",
       "      <td>1.0</td>\n",
       "    </tr>\n",
       "    <tr>\n",
       "      <th>75267</th>\n",
       "      <td>0</td>\n",
       "      <td>1</td>\n",
       "      <td>299</td>\n",
       "      <td>0</td>\n",
       "      <td>8</td>\n",
       "      <td>33</td>\n",
       "      <td>12</td>\n",
       "      <td>0</td>\n",
       "      <td>4</td>\n",
       "      <td>3</td>\n",
       "      <td>...</td>\n",
       "      <td>0</td>\n",
       "      <td>1</td>\n",
       "      <td>0</td>\n",
       "      <td>3</td>\n",
       "      <td>62.0</td>\n",
       "      <td>0</td>\n",
       "      <td>0</td>\n",
       "      <td>0</td>\n",
       "      <td>2</td>\n",
       "      <td>2.0</td>\n",
       "    </tr>\n",
       "    <tr>\n",
       "      <th>40803</th>\n",
       "      <td>0</td>\n",
       "      <td>0</td>\n",
       "      <td>36</td>\n",
       "      <td>0</td>\n",
       "      <td>8</td>\n",
       "      <td>32</td>\n",
       "      <td>7</td>\n",
       "      <td>0</td>\n",
       "      <td>4</td>\n",
       "      <td>3</td>\n",
       "      <td>...</td>\n",
       "      <td>0</td>\n",
       "      <td>0</td>\n",
       "      <td>0</td>\n",
       "      <td>3</td>\n",
       "      <td>62.0</td>\n",
       "      <td>0</td>\n",
       "      <td>0</td>\n",
       "      <td>1</td>\n",
       "      <td>2</td>\n",
       "      <td>2.0</td>\n",
       "    </tr>\n",
       "    <tr>\n",
       "      <th>4784</th>\n",
       "      <td>1</td>\n",
       "      <td>0</td>\n",
       "      <td>169</td>\n",
       "      <td>1</td>\n",
       "      <td>3</td>\n",
       "      <td>14</td>\n",
       "      <td>31</td>\n",
       "      <td>0</td>\n",
       "      <td>4</td>\n",
       "      <td>1</td>\n",
       "      <td>...</td>\n",
       "      <td>1</td>\n",
       "      <td>2</td>\n",
       "      <td>0</td>\n",
       "      <td>3</td>\n",
       "      <td>60.0</td>\n",
       "      <td>0</td>\n",
       "      <td>0</td>\n",
       "      <td>1</td>\n",
       "      <td>4</td>\n",
       "      <td>1.0</td>\n",
       "    </tr>\n",
       "  </tbody>\n",
       "</table>\n",
       "<p>5 rows × 23 columns</p>\n",
       "</div>"
      ],
      "text/plain": [
       "       hotel  is_canceled  lead_time  arrival_date_year  arrival_date_month  \\\n",
       "71397      0            1        465                  2                   7   \n",
       "52819      0            1         69                  1                   6   \n",
       "75267      0            1        299                  0                   8   \n",
       "40803      0            0         36                  0                   8   \n",
       "4784       1            0        169                  1                   3   \n",
       "\n",
       "       arrival_date_week_number  arrival_date_day_of_month  meal  \\\n",
       "71397                        27                          4     0   \n",
       "52819                        25                         12     0   \n",
       "75267                        33                         12     0   \n",
       "40803                        32                          7     0   \n",
       "4784                         14                         31     0   \n",
       "\n",
       "       market_segment  distribution_channel  ...  booking_changes  \\\n",
       "71397               5                     3  ...                0   \n",
       "52819               5                     3  ...                0   \n",
       "75267               4                     3  ...                0   \n",
       "40803               4                     3  ...                0   \n",
       "4784                4                     1  ...                1   \n",
       "\n",
       "       deposit_type  days_in_waiting_list  customer_type    adr  \\\n",
       "71397             1                     0              2   90.0   \n",
       "52819             1                     0              2  120.0   \n",
       "75267             1                     0              3   62.0   \n",
       "40803             0                     0              3   62.0   \n",
       "4784              2                     0              3   60.0   \n",
       "\n",
       "       required_car_parking_spaces  total_of_special_requests  \\\n",
       "71397                            0                          0   \n",
       "52819                            0                          0   \n",
       "75267                            0                          0   \n",
       "40803                            0                          0   \n",
       "4784                             0                          0   \n",
       "\n",
       "       reservation_status  total_days  total_customers  \n",
       "71397                   0           1              2.0  \n",
       "52819                   0           6              1.0  \n",
       "75267                   0           2              2.0  \n",
       "40803                   1           2              2.0  \n",
       "4784                    1           4              1.0  \n",
       "\n",
       "[5 rows x 23 columns]"
      ]
     },
     "execution_count": 329,
     "metadata": {},
     "output_type": "execute_result"
    }
   ],
   "source": [
    "train.head()"
   ]
  },
  {
   "cell_type": "markdown",
   "metadata": {},
   "source": [
    "### Feature correlation\n",
    "<b>Spearman</b> and <b>Pearson</b> are the 2 statistical methods to compute the correlation between features. \n",
    "- Pearson is suggested method for features with continuous values and linear relationship\n",
    "- Spearman is suggested method when features have ordinal categorical data or non-linear relationship\n",
    "<br>Pandas correlation method by default uses Pearson method, but we can also change it to spearman </br>"
   ]
  },
  {
   "cell_type": "code",
   "execution_count": 330,
   "metadata": {
    "scrolled": false
   },
   "outputs": [
    {
     "data": {
      "text/html": [
       "<div>\n",
       "<style scoped>\n",
       "    .dataframe tbody tr th:only-of-type {\n",
       "        vertical-align: middle;\n",
       "    }\n",
       "\n",
       "    .dataframe tbody tr th {\n",
       "        vertical-align: top;\n",
       "    }\n",
       "\n",
       "    .dataframe thead th {\n",
       "        text-align: right;\n",
       "    }\n",
       "</style>\n",
       "<table border=\"1\" class=\"dataframe\">\n",
       "  <thead>\n",
       "    <tr style=\"text-align: right;\">\n",
       "      <th></th>\n",
       "      <th>hotel</th>\n",
       "      <th>is_canceled</th>\n",
       "      <th>lead_time</th>\n",
       "      <th>arrival_date_year</th>\n",
       "      <th>arrival_date_month</th>\n",
       "      <th>arrival_date_week_number</th>\n",
       "      <th>arrival_date_day_of_month</th>\n",
       "      <th>meal</th>\n",
       "      <th>market_segment</th>\n",
       "      <th>distribution_channel</th>\n",
       "      <th>...</th>\n",
       "      <th>booking_changes</th>\n",
       "      <th>deposit_type</th>\n",
       "      <th>days_in_waiting_list</th>\n",
       "      <th>customer_type</th>\n",
       "      <th>adr</th>\n",
       "      <th>required_car_parking_spaces</th>\n",
       "      <th>total_of_special_requests</th>\n",
       "      <th>reservation_status</th>\n",
       "      <th>total_days</th>\n",
       "      <th>total_customers</th>\n",
       "    </tr>\n",
       "  </thead>\n",
       "  <tbody>\n",
       "    <tr>\n",
       "      <th>hotel</th>\n",
       "      <td>1.000000</td>\n",
       "      <td>-0.133235</td>\n",
       "      <td>-0.075315</td>\n",
       "      <td>-0.037106</td>\n",
       "      <td>-0.005104</td>\n",
       "      <td>-0.004476</td>\n",
       "      <td>0.001585</td>\n",
       "      <td>-0.008411</td>\n",
       "      <td>-0.084212</td>\n",
       "      <td>-0.175068</td>\n",
       "      <td>...</td>\n",
       "      <td>0.070126</td>\n",
       "      <td>-0.153706</td>\n",
       "      <td>-0.071511</td>\n",
       "      <td>-0.047776</td>\n",
       "      <td>-0.097952</td>\n",
       "      <td>0.216508</td>\n",
       "      <td>0.043603</td>\n",
       "      <td>0.122146</td>\n",
       "      <td>0.243479</td>\n",
       "      <td>0.041462</td>\n",
       "    </tr>\n",
       "    <tr>\n",
       "      <th>is_canceled</th>\n",
       "      <td>-0.133235</td>\n",
       "      <td>1.000000</td>\n",
       "      <td>0.293862</td>\n",
       "      <td>0.018617</td>\n",
       "      <td>0.007202</td>\n",
       "      <td>0.004231</td>\n",
       "      <td>-0.005907</td>\n",
       "      <td>-0.015696</td>\n",
       "      <td>0.057009</td>\n",
       "      <td>0.165857</td>\n",
       "      <td>...</td>\n",
       "      <td>-0.142468</td>\n",
       "      <td>0.465365</td>\n",
       "      <td>0.053578</td>\n",
       "      <td>-0.066124</td>\n",
       "      <td>0.046497</td>\n",
       "      <td>-0.194981</td>\n",
       "      <td>-0.237227</td>\n",
       "      <td>-0.916236</td>\n",
       "      <td>0.020323</td>\n",
       "      <td>0.050378</td>\n",
       "    </tr>\n",
       "    <tr>\n",
       "      <th>lead_time</th>\n",
       "      <td>-0.075315</td>\n",
       "      <td>0.293862</td>\n",
       "      <td>1.000000</td>\n",
       "      <td>0.037441</td>\n",
       "      <td>0.130301</td>\n",
       "      <td>0.125686</td>\n",
       "      <td>0.002624</td>\n",
       "      <td>0.003362</td>\n",
       "      <td>0.012947</td>\n",
       "      <td>0.221581</td>\n",
       "      <td>...</td>\n",
       "      <td>0.005715</td>\n",
       "      <td>0.376117</td>\n",
       "      <td>0.170758</td>\n",
       "      <td>0.074105</td>\n",
       "      <td>-0.060141</td>\n",
       "      <td>-0.116603</td>\n",
       "      <td>-0.097238</td>\n",
       "      <td>-0.303482</td>\n",
       "      <td>0.156666</td>\n",
       "      <td>0.076353</td>\n",
       "    </tr>\n",
       "    <tr>\n",
       "      <th>arrival_date_year</th>\n",
       "      <td>-0.037106</td>\n",
       "      <td>0.018617</td>\n",
       "      <td>0.037441</td>\n",
       "      <td>1.000000</td>\n",
       "      <td>-0.527453</td>\n",
       "      <td>-0.539995</td>\n",
       "      <td>0.003309</td>\n",
       "      <td>0.065659</td>\n",
       "      <td>0.109768</td>\n",
       "      <td>0.023996</td>\n",
       "      <td>...</td>\n",
       "      <td>0.027568</td>\n",
       "      <td>-0.064395</td>\n",
       "      <td>-0.058757</td>\n",
       "      <td>-0.002255</td>\n",
       "      <td>0.190687</td>\n",
       "      <td>-0.019273</td>\n",
       "      <td>0.110611</td>\n",
       "      <td>-0.018078</td>\n",
       "      <td>0.028608</td>\n",
       "      <td>0.047847</td>\n",
       "    </tr>\n",
       "    <tr>\n",
       "      <th>arrival_date_month</th>\n",
       "      <td>-0.005104</td>\n",
       "      <td>0.007202</td>\n",
       "      <td>0.130301</td>\n",
       "      <td>-0.527453</td>\n",
       "      <td>1.000000</td>\n",
       "      <td>0.995089</td>\n",
       "      <td>-0.027029</td>\n",
       "      <td>-0.012381</td>\n",
       "      <td>0.002234</td>\n",
       "      <td>0.008046</td>\n",
       "      <td>...</td>\n",
       "      <td>0.005375</td>\n",
       "      <td>0.000728</td>\n",
       "      <td>0.020778</td>\n",
       "      <td>-0.031787</td>\n",
       "      <td>0.078292</td>\n",
       "      <td>0.000966</td>\n",
       "      <td>0.028711</td>\n",
       "      <td>-0.018452</td>\n",
       "      <td>0.018921</td>\n",
       "      <td>0.029172</td>\n",
       "    </tr>\n",
       "    <tr>\n",
       "      <th>arrival_date_week_number</th>\n",
       "      <td>-0.004476</td>\n",
       "      <td>0.004231</td>\n",
       "      <td>0.125686</td>\n",
       "      <td>-0.539995</td>\n",
       "      <td>0.995089</td>\n",
       "      <td>1.000000</td>\n",
       "      <td>0.066024</td>\n",
       "      <td>-0.014768</td>\n",
       "      <td>0.000203</td>\n",
       "      <td>0.006080</td>\n",
       "      <td>...</td>\n",
       "      <td>0.006360</td>\n",
       "      <td>0.000589</td>\n",
       "      <td>0.024521</td>\n",
       "      <td>-0.030274</td>\n",
       "      <td>0.074937</td>\n",
       "      <td>0.003083</td>\n",
       "      <td>0.026953</td>\n",
       "      <td>-0.014659</td>\n",
       "      <td>0.016151</td>\n",
       "      <td>0.027057</td>\n",
       "    </tr>\n",
       "    <tr>\n",
       "      <th>arrival_date_day_of_month</th>\n",
       "      <td>0.001585</td>\n",
       "      <td>-0.005907</td>\n",
       "      <td>0.002624</td>\n",
       "      <td>0.003309</td>\n",
       "      <td>-0.027029</td>\n",
       "      <td>0.066024</td>\n",
       "      <td>1.000000</td>\n",
       "      <td>-0.007767</td>\n",
       "      <td>-0.004260</td>\n",
       "      <td>0.000526</td>\n",
       "      <td>...</td>\n",
       "      <td>0.013321</td>\n",
       "      <td>-0.000918</td>\n",
       "      <td>0.021398</td>\n",
       "      <td>0.013863</td>\n",
       "      <td>0.029335</td>\n",
       "      <td>0.011258</td>\n",
       "      <td>0.005377</td>\n",
       "      <td>0.011239</td>\n",
       "      <td>-0.028335</td>\n",
       "      <td>0.005292</td>\n",
       "    </tr>\n",
       "    <tr>\n",
       "      <th>meal</th>\n",
       "      <td>-0.008411</td>\n",
       "      <td>-0.015696</td>\n",
       "      <td>0.003362</td>\n",
       "      <td>0.065659</td>\n",
       "      <td>-0.012381</td>\n",
       "      <td>-0.014768</td>\n",
       "      <td>-0.007767</td>\n",
       "      <td>1.000000</td>\n",
       "      <td>0.145500</td>\n",
       "      <td>0.117021</td>\n",
       "      <td>...</td>\n",
       "      <td>0.019491</td>\n",
       "      <td>-0.090786</td>\n",
       "      <td>-0.007059</td>\n",
       "      <td>0.046040</td>\n",
       "      <td>0.057454</td>\n",
       "      <td>-0.040283</td>\n",
       "      <td>0.025588</td>\n",
       "      <td>0.012886</td>\n",
       "      <td>0.043300</td>\n",
       "      <td>-0.007353</td>\n",
       "    </tr>\n",
       "    <tr>\n",
       "      <th>market_segment</th>\n",
       "      <td>-0.084212</td>\n",
       "      <td>0.057009</td>\n",
       "      <td>0.012947</td>\n",
       "      <td>0.109768</td>\n",
       "      <td>0.002234</td>\n",
       "      <td>0.000203</td>\n",
       "      <td>-0.004260</td>\n",
       "      <td>0.145500</td>\n",
       "      <td>1.000000</td>\n",
       "      <td>0.767888</td>\n",
       "      <td>...</td>\n",
       "      <td>-0.072359</td>\n",
       "      <td>-0.185796</td>\n",
       "      <td>-0.043706</td>\n",
       "      <td>-0.166866</td>\n",
       "      <td>0.229562</td>\n",
       "      <td>-0.066557</td>\n",
       "      <td>0.271409</td>\n",
       "      <td>-0.058667</td>\n",
       "      <td>0.127563</td>\n",
       "      <td>0.206631</td>\n",
       "    </tr>\n",
       "    <tr>\n",
       "      <th>distribution_channel</th>\n",
       "      <td>-0.175068</td>\n",
       "      <td>0.165857</td>\n",
       "      <td>0.221581</td>\n",
       "      <td>0.023996</td>\n",
       "      <td>0.008046</td>\n",
       "      <td>0.006080</td>\n",
       "      <td>0.000526</td>\n",
       "      <td>0.117021</td>\n",
       "      <td>0.767888</td>\n",
       "      <td>1.000000</td>\n",
       "      <td>...</td>\n",
       "      <td>-0.114508</td>\n",
       "      <td>0.087917</td>\n",
       "      <td>0.048106</td>\n",
       "      <td>-0.069046</td>\n",
       "      <td>0.094111</td>\n",
       "      <td>-0.136533</td>\n",
       "      <td>0.096475</td>\n",
       "      <td>-0.168729</td>\n",
       "      <td>0.101435</td>\n",
       "      <td>0.140565</td>\n",
       "    </tr>\n",
       "    <tr>\n",
       "      <th>is_repeated_guest</th>\n",
       "      <td>0.052696</td>\n",
       "      <td>-0.086414</td>\n",
       "      <td>-0.125273</td>\n",
       "      <td>0.008644</td>\n",
       "      <td>-0.029176</td>\n",
       "      <td>-0.028701</td>\n",
       "      <td>-0.008097</td>\n",
       "      <td>-0.056160</td>\n",
       "      <td>-0.251488</td>\n",
       "      <td>-0.262067</td>\n",
       "      <td>...</td>\n",
       "      <td>0.014864</td>\n",
       "      <td>-0.056997</td>\n",
       "      <td>-0.022707</td>\n",
       "      <td>-0.015767</td>\n",
       "      <td>-0.134671</td>\n",
       "      <td>0.080383</td>\n",
       "      <td>0.010448</td>\n",
       "      <td>0.084314</td>\n",
       "      <td>-0.107610</td>\n",
       "      <td>-0.134782</td>\n",
       "    </tr>\n",
       "    <tr>\n",
       "      <th>reserved_room_type</th>\n",
       "      <td>0.245048</td>\n",
       "      <td>-0.059401</td>\n",
       "      <td>-0.106670</td>\n",
       "      <td>0.090560</td>\n",
       "      <td>-0.009796</td>\n",
       "      <td>-0.009809</td>\n",
       "      <td>0.017627</td>\n",
       "      <td>-0.120794</td>\n",
       "      <td>0.091440</td>\n",
       "      <td>-0.044202</td>\n",
       "      <td>...</td>\n",
       "      <td>0.043021</td>\n",
       "      <td>-0.199205</td>\n",
       "      <td>-0.068677</td>\n",
       "      <td>-0.122267</td>\n",
       "      <td>0.377869</td>\n",
       "      <td>0.130724</td>\n",
       "      <td>0.139595</td>\n",
       "      <td>0.056657</td>\n",
       "      <td>0.177973</td>\n",
       "      <td>0.375685</td>\n",
       "    </tr>\n",
       "    <tr>\n",
       "      <th>assigned_room_type</th>\n",
       "      <td>0.303765</td>\n",
       "      <td>-0.173262</td>\n",
       "      <td>-0.174243</td>\n",
       "      <td>0.034575</td>\n",
       "      <td>-0.007843</td>\n",
       "      <td>-0.007092</td>\n",
       "      <td>0.012843</td>\n",
       "      <td>-0.120468</td>\n",
       "      <td>0.021907</td>\n",
       "      <td>-0.107222</td>\n",
       "      <td>...</td>\n",
       "      <td>0.096093</td>\n",
       "      <td>-0.240872</td>\n",
       "      <td>-0.068786</td>\n",
       "      <td>-0.085937</td>\n",
       "      <td>0.246623</td>\n",
       "      <td>0.157772</td>\n",
       "      <td>0.125943</td>\n",
       "      <td>0.170925</td>\n",
       "      <td>0.106155</td>\n",
       "      <td>0.293730</td>\n",
       "    </tr>\n",
       "    <tr>\n",
       "      <th>booking_changes</th>\n",
       "      <td>0.070126</td>\n",
       "      <td>-0.142468</td>\n",
       "      <td>0.005715</td>\n",
       "      <td>0.027568</td>\n",
       "      <td>0.005375</td>\n",
       "      <td>0.006360</td>\n",
       "      <td>0.013321</td>\n",
       "      <td>0.019491</td>\n",
       "      <td>-0.072359</td>\n",
       "      <td>-0.114508</td>\n",
       "      <td>...</td>\n",
       "      <td>1.000000</td>\n",
       "      <td>-0.109559</td>\n",
       "      <td>-0.012420</td>\n",
       "      <td>0.094041</td>\n",
       "      <td>0.018466</td>\n",
       "      <td>0.061943</td>\n",
       "      <td>0.054347</td>\n",
       "      <td>0.139963</td>\n",
       "      <td>0.100113</td>\n",
       "      <td>-0.007452</td>\n",
       "    </tr>\n",
       "    <tr>\n",
       "      <th>deposit_type</th>\n",
       "      <td>-0.153706</td>\n",
       "      <td>0.465365</td>\n",
       "      <td>0.376117</td>\n",
       "      <td>-0.064395</td>\n",
       "      <td>0.000728</td>\n",
       "      <td>0.000589</td>\n",
       "      <td>-0.000918</td>\n",
       "      <td>-0.090786</td>\n",
       "      <td>-0.185796</td>\n",
       "      <td>0.087917</td>\n",
       "      <td>...</td>\n",
       "      <td>-0.109559</td>\n",
       "      <td>1.000000</td>\n",
       "      <td>0.119373</td>\n",
       "      <td>-0.069979</td>\n",
       "      <td>-0.084856</td>\n",
       "      <td>-0.089048</td>\n",
       "      <td>-0.265583</td>\n",
       "      <td>-0.462788</td>\n",
       "      <td>-0.101430</td>\n",
       "      <td>-0.076910</td>\n",
       "    </tr>\n",
       "    <tr>\n",
       "      <th>days_in_waiting_list</th>\n",
       "      <td>-0.071511</td>\n",
       "      <td>0.053578</td>\n",
       "      <td>0.170758</td>\n",
       "      <td>-0.058757</td>\n",
       "      <td>0.020778</td>\n",
       "      <td>0.024521</td>\n",
       "      <td>0.021398</td>\n",
       "      <td>-0.007059</td>\n",
       "      <td>-0.043706</td>\n",
       "      <td>0.048106</td>\n",
       "      <td>...</td>\n",
       "      <td>-0.012420</td>\n",
       "      <td>0.119373</td>\n",
       "      <td>1.000000</td>\n",
       "      <td>0.101362</td>\n",
       "      <td>-0.040159</td>\n",
       "      <td>-0.029223</td>\n",
       "      <td>-0.082939</td>\n",
       "      <td>-0.057428</td>\n",
       "      <td>-0.020920</td>\n",
       "      <td>-0.026445</td>\n",
       "    </tr>\n",
       "    <tr>\n",
       "      <th>customer_type</th>\n",
       "      <td>-0.047776</td>\n",
       "      <td>-0.066124</td>\n",
       "      <td>0.074105</td>\n",
       "      <td>-0.002255</td>\n",
       "      <td>-0.031787</td>\n",
       "      <td>-0.030274</td>\n",
       "      <td>0.013863</td>\n",
       "      <td>0.046040</td>\n",
       "      <td>-0.166866</td>\n",
       "      <td>-0.069046</td>\n",
       "      <td>...</td>\n",
       "      <td>0.094041</td>\n",
       "      <td>-0.069979</td>\n",
       "      <td>0.101362</td>\n",
       "      <td>1.000000</td>\n",
       "      <td>-0.074940</td>\n",
       "      <td>-0.029569</td>\n",
       "      <td>-0.132842</td>\n",
       "      <td>0.064782</td>\n",
       "      <td>-0.135648</td>\n",
       "      <td>-0.114682</td>\n",
       "    </tr>\n",
       "    <tr>\n",
       "      <th>adr</th>\n",
       "      <td>-0.097952</td>\n",
       "      <td>0.046497</td>\n",
       "      <td>-0.060141</td>\n",
       "      <td>0.190687</td>\n",
       "      <td>0.078292</td>\n",
       "      <td>0.074937</td>\n",
       "      <td>0.029335</td>\n",
       "      <td>0.057454</td>\n",
       "      <td>0.229562</td>\n",
       "      <td>0.094111</td>\n",
       "      <td>...</td>\n",
       "      <td>0.018466</td>\n",
       "      <td>-0.084856</td>\n",
       "      <td>-0.040159</td>\n",
       "      <td>-0.074940</td>\n",
       "      <td>1.000000</td>\n",
       "      <td>0.049642</td>\n",
       "      <td>0.164320</td>\n",
       "      <td>-0.049673</td>\n",
       "      <td>0.061949</td>\n",
       "      <td>0.347262</td>\n",
       "    </tr>\n",
       "    <tr>\n",
       "      <th>required_car_parking_spaces</th>\n",
       "      <td>0.216508</td>\n",
       "      <td>-0.194981</td>\n",
       "      <td>-0.116603</td>\n",
       "      <td>-0.019273</td>\n",
       "      <td>0.000966</td>\n",
       "      <td>0.003083</td>\n",
       "      <td>0.011258</td>\n",
       "      <td>-0.040283</td>\n",
       "      <td>-0.066557</td>\n",
       "      <td>-0.136533</td>\n",
       "      <td>...</td>\n",
       "      <td>0.061943</td>\n",
       "      <td>-0.089048</td>\n",
       "      <td>-0.029223</td>\n",
       "      <td>-0.029569</td>\n",
       "      <td>0.049642</td>\n",
       "      <td>1.000000</td>\n",
       "      <td>0.078050</td>\n",
       "      <td>0.178649</td>\n",
       "      <td>-0.026687</td>\n",
       "      <td>0.044405</td>\n",
       "    </tr>\n",
       "    <tr>\n",
       "      <th>total_of_special_requests</th>\n",
       "      <td>0.043603</td>\n",
       "      <td>-0.237227</td>\n",
       "      <td>-0.097238</td>\n",
       "      <td>0.110611</td>\n",
       "      <td>0.028711</td>\n",
       "      <td>0.026953</td>\n",
       "      <td>0.005377</td>\n",
       "      <td>0.025588</td>\n",
       "      <td>0.271409</td>\n",
       "      <td>0.096475</td>\n",
       "      <td>...</td>\n",
       "      <td>0.054347</td>\n",
       "      <td>-0.265583</td>\n",
       "      <td>-0.082939</td>\n",
       "      <td>-0.132842</td>\n",
       "      <td>0.164320</td>\n",
       "      <td>0.078050</td>\n",
       "      <td>1.000000</td>\n",
       "      <td>0.226824</td>\n",
       "      <td>0.075526</td>\n",
       "      <td>0.154370</td>\n",
       "    </tr>\n",
       "    <tr>\n",
       "      <th>reservation_status</th>\n",
       "      <td>0.122146</td>\n",
       "      <td>-0.916236</td>\n",
       "      <td>-0.303482</td>\n",
       "      <td>-0.018078</td>\n",
       "      <td>-0.018452</td>\n",
       "      <td>-0.014659</td>\n",
       "      <td>0.011239</td>\n",
       "      <td>0.012886</td>\n",
       "      <td>-0.058667</td>\n",
       "      <td>-0.168729</td>\n",
       "      <td>...</td>\n",
       "      <td>0.139963</td>\n",
       "      <td>-0.462788</td>\n",
       "      <td>-0.057428</td>\n",
       "      <td>0.064782</td>\n",
       "      <td>-0.049673</td>\n",
       "      <td>0.178649</td>\n",
       "      <td>0.226824</td>\n",
       "      <td>1.000000</td>\n",
       "      <td>-0.014489</td>\n",
       "      <td>-0.059516</td>\n",
       "    </tr>\n",
       "    <tr>\n",
       "      <th>total_days</th>\n",
       "      <td>0.243479</td>\n",
       "      <td>0.020323</td>\n",
       "      <td>0.156666</td>\n",
       "      <td>0.028608</td>\n",
       "      <td>0.018921</td>\n",
       "      <td>0.016151</td>\n",
       "      <td>-0.028335</td>\n",
       "      <td>0.043300</td>\n",
       "      <td>0.127563</td>\n",
       "      <td>0.101435</td>\n",
       "      <td>...</td>\n",
       "      <td>0.100113</td>\n",
       "      <td>-0.101430</td>\n",
       "      <td>-0.020920</td>\n",
       "      <td>-0.135648</td>\n",
       "      <td>0.061949</td>\n",
       "      <td>-0.026687</td>\n",
       "      <td>0.075526</td>\n",
       "      <td>-0.014489</td>\n",
       "      <td>1.000000</td>\n",
       "      <td>0.113214</td>\n",
       "    </tr>\n",
       "    <tr>\n",
       "      <th>total_customers</th>\n",
       "      <td>0.041462</td>\n",
       "      <td>0.050378</td>\n",
       "      <td>0.076353</td>\n",
       "      <td>0.047847</td>\n",
       "      <td>0.029172</td>\n",
       "      <td>0.027057</td>\n",
       "      <td>0.005292</td>\n",
       "      <td>-0.007353</td>\n",
       "      <td>0.206631</td>\n",
       "      <td>0.140565</td>\n",
       "      <td>...</td>\n",
       "      <td>-0.007452</td>\n",
       "      <td>-0.076910</td>\n",
       "      <td>-0.026445</td>\n",
       "      <td>-0.114682</td>\n",
       "      <td>0.347262</td>\n",
       "      <td>0.044405</td>\n",
       "      <td>0.154370</td>\n",
       "      <td>-0.059516</td>\n",
       "      <td>0.113214</td>\n",
       "      <td>1.000000</td>\n",
       "    </tr>\n",
       "  </tbody>\n",
       "</table>\n",
       "<p>23 rows × 23 columns</p>\n",
       "</div>"
      ],
      "text/plain": [
       "                                hotel  is_canceled  lead_time  \\\n",
       "hotel                        1.000000    -0.133235  -0.075315   \n",
       "is_canceled                 -0.133235     1.000000   0.293862   \n",
       "lead_time                   -0.075315     0.293862   1.000000   \n",
       "arrival_date_year           -0.037106     0.018617   0.037441   \n",
       "arrival_date_month          -0.005104     0.007202   0.130301   \n",
       "arrival_date_week_number    -0.004476     0.004231   0.125686   \n",
       "arrival_date_day_of_month    0.001585    -0.005907   0.002624   \n",
       "meal                        -0.008411    -0.015696   0.003362   \n",
       "market_segment              -0.084212     0.057009   0.012947   \n",
       "distribution_channel        -0.175068     0.165857   0.221581   \n",
       "is_repeated_guest            0.052696    -0.086414  -0.125273   \n",
       "reserved_room_type           0.245048    -0.059401  -0.106670   \n",
       "assigned_room_type           0.303765    -0.173262  -0.174243   \n",
       "booking_changes              0.070126    -0.142468   0.005715   \n",
       "deposit_type                -0.153706     0.465365   0.376117   \n",
       "days_in_waiting_list        -0.071511     0.053578   0.170758   \n",
       "customer_type               -0.047776    -0.066124   0.074105   \n",
       "adr                         -0.097952     0.046497  -0.060141   \n",
       "required_car_parking_spaces  0.216508    -0.194981  -0.116603   \n",
       "total_of_special_requests    0.043603    -0.237227  -0.097238   \n",
       "reservation_status           0.122146    -0.916236  -0.303482   \n",
       "total_days                   0.243479     0.020323   0.156666   \n",
       "total_customers              0.041462     0.050378   0.076353   \n",
       "\n",
       "                             arrival_date_year  arrival_date_month  \\\n",
       "hotel                                -0.037106           -0.005104   \n",
       "is_canceled                           0.018617            0.007202   \n",
       "lead_time                             0.037441            0.130301   \n",
       "arrival_date_year                     1.000000           -0.527453   \n",
       "arrival_date_month                   -0.527453            1.000000   \n",
       "arrival_date_week_number             -0.539995            0.995089   \n",
       "arrival_date_day_of_month             0.003309           -0.027029   \n",
       "meal                                  0.065659           -0.012381   \n",
       "market_segment                        0.109768            0.002234   \n",
       "distribution_channel                  0.023996            0.008046   \n",
       "is_repeated_guest                     0.008644           -0.029176   \n",
       "reserved_room_type                    0.090560           -0.009796   \n",
       "assigned_room_type                    0.034575           -0.007843   \n",
       "booking_changes                       0.027568            0.005375   \n",
       "deposit_type                         -0.064395            0.000728   \n",
       "days_in_waiting_list                 -0.058757            0.020778   \n",
       "customer_type                        -0.002255           -0.031787   \n",
       "adr                                   0.190687            0.078292   \n",
       "required_car_parking_spaces          -0.019273            0.000966   \n",
       "total_of_special_requests             0.110611            0.028711   \n",
       "reservation_status                   -0.018078           -0.018452   \n",
       "total_days                            0.028608            0.018921   \n",
       "total_customers                       0.047847            0.029172   \n",
       "\n",
       "                             arrival_date_week_number  \\\n",
       "hotel                                       -0.004476   \n",
       "is_canceled                                  0.004231   \n",
       "lead_time                                    0.125686   \n",
       "arrival_date_year                           -0.539995   \n",
       "arrival_date_month                           0.995089   \n",
       "arrival_date_week_number                     1.000000   \n",
       "arrival_date_day_of_month                    0.066024   \n",
       "meal                                        -0.014768   \n",
       "market_segment                               0.000203   \n",
       "distribution_channel                         0.006080   \n",
       "is_repeated_guest                           -0.028701   \n",
       "reserved_room_type                          -0.009809   \n",
       "assigned_room_type                          -0.007092   \n",
       "booking_changes                              0.006360   \n",
       "deposit_type                                 0.000589   \n",
       "days_in_waiting_list                         0.024521   \n",
       "customer_type                               -0.030274   \n",
       "adr                                          0.074937   \n",
       "required_car_parking_spaces                  0.003083   \n",
       "total_of_special_requests                    0.026953   \n",
       "reservation_status                          -0.014659   \n",
       "total_days                                   0.016151   \n",
       "total_customers                              0.027057   \n",
       "\n",
       "                             arrival_date_day_of_month      meal  \\\n",
       "hotel                                         0.001585 -0.008411   \n",
       "is_canceled                                  -0.005907 -0.015696   \n",
       "lead_time                                     0.002624  0.003362   \n",
       "arrival_date_year                             0.003309  0.065659   \n",
       "arrival_date_month                           -0.027029 -0.012381   \n",
       "arrival_date_week_number                      0.066024 -0.014768   \n",
       "arrival_date_day_of_month                     1.000000 -0.007767   \n",
       "meal                                         -0.007767  1.000000   \n",
       "market_segment                               -0.004260  0.145500   \n",
       "distribution_channel                          0.000526  0.117021   \n",
       "is_repeated_guest                            -0.008097 -0.056160   \n",
       "reserved_room_type                            0.017627 -0.120794   \n",
       "assigned_room_type                            0.012843 -0.120468   \n",
       "booking_changes                               0.013321  0.019491   \n",
       "deposit_type                                 -0.000918 -0.090786   \n",
       "days_in_waiting_list                          0.021398 -0.007059   \n",
       "customer_type                                 0.013863  0.046040   \n",
       "adr                                           0.029335  0.057454   \n",
       "required_car_parking_spaces                   0.011258 -0.040283   \n",
       "total_of_special_requests                     0.005377  0.025588   \n",
       "reservation_status                            0.011239  0.012886   \n",
       "total_days                                   -0.028335  0.043300   \n",
       "total_customers                               0.005292 -0.007353   \n",
       "\n",
       "                             market_segment  distribution_channel  ...  \\\n",
       "hotel                             -0.084212             -0.175068  ...   \n",
       "is_canceled                        0.057009              0.165857  ...   \n",
       "lead_time                          0.012947              0.221581  ...   \n",
       "arrival_date_year                  0.109768              0.023996  ...   \n",
       "arrival_date_month                 0.002234              0.008046  ...   \n",
       "arrival_date_week_number           0.000203              0.006080  ...   \n",
       "arrival_date_day_of_month         -0.004260              0.000526  ...   \n",
       "meal                               0.145500              0.117021  ...   \n",
       "market_segment                     1.000000              0.767888  ...   \n",
       "distribution_channel               0.767888              1.000000  ...   \n",
       "is_repeated_guest                 -0.251488             -0.262067  ...   \n",
       "reserved_room_type                 0.091440             -0.044202  ...   \n",
       "assigned_room_type                 0.021907             -0.107222  ...   \n",
       "booking_changes                   -0.072359             -0.114508  ...   \n",
       "deposit_type                      -0.185796              0.087917  ...   \n",
       "days_in_waiting_list              -0.043706              0.048106  ...   \n",
       "customer_type                     -0.166866             -0.069046  ...   \n",
       "adr                                0.229562              0.094111  ...   \n",
       "required_car_parking_spaces       -0.066557             -0.136533  ...   \n",
       "total_of_special_requests          0.271409              0.096475  ...   \n",
       "reservation_status                -0.058667             -0.168729  ...   \n",
       "total_days                         0.127563              0.101435  ...   \n",
       "total_customers                    0.206631              0.140565  ...   \n",
       "\n",
       "                             booking_changes  deposit_type  \\\n",
       "hotel                               0.070126     -0.153706   \n",
       "is_canceled                        -0.142468      0.465365   \n",
       "lead_time                           0.005715      0.376117   \n",
       "arrival_date_year                   0.027568     -0.064395   \n",
       "arrival_date_month                  0.005375      0.000728   \n",
       "arrival_date_week_number            0.006360      0.000589   \n",
       "arrival_date_day_of_month           0.013321     -0.000918   \n",
       "meal                                0.019491     -0.090786   \n",
       "market_segment                     -0.072359     -0.185796   \n",
       "distribution_channel               -0.114508      0.087917   \n",
       "is_repeated_guest                   0.014864     -0.056997   \n",
       "reserved_room_type                  0.043021     -0.199205   \n",
       "assigned_room_type                  0.096093     -0.240872   \n",
       "booking_changes                     1.000000     -0.109559   \n",
       "deposit_type                       -0.109559      1.000000   \n",
       "days_in_waiting_list               -0.012420      0.119373   \n",
       "customer_type                       0.094041     -0.069979   \n",
       "adr                                 0.018466     -0.084856   \n",
       "required_car_parking_spaces         0.061943     -0.089048   \n",
       "total_of_special_requests           0.054347     -0.265583   \n",
       "reservation_status                  0.139963     -0.462788   \n",
       "total_days                          0.100113     -0.101430   \n",
       "total_customers                    -0.007452     -0.076910   \n",
       "\n",
       "                             days_in_waiting_list  customer_type       adr  \\\n",
       "hotel                                   -0.071511      -0.047776 -0.097952   \n",
       "is_canceled                              0.053578      -0.066124  0.046497   \n",
       "lead_time                                0.170758       0.074105 -0.060141   \n",
       "arrival_date_year                       -0.058757      -0.002255  0.190687   \n",
       "arrival_date_month                       0.020778      -0.031787  0.078292   \n",
       "arrival_date_week_number                 0.024521      -0.030274  0.074937   \n",
       "arrival_date_day_of_month                0.021398       0.013863  0.029335   \n",
       "meal                                    -0.007059       0.046040  0.057454   \n",
       "market_segment                          -0.043706      -0.166866  0.229562   \n",
       "distribution_channel                     0.048106      -0.069046  0.094111   \n",
       "is_repeated_guest                       -0.022707      -0.015767 -0.134671   \n",
       "reserved_room_type                      -0.068677      -0.122267  0.377869   \n",
       "assigned_room_type                      -0.068786      -0.085937  0.246623   \n",
       "booking_changes                         -0.012420       0.094041  0.018466   \n",
       "deposit_type                             0.119373      -0.069979 -0.084856   \n",
       "days_in_waiting_list                     1.000000       0.101362 -0.040159   \n",
       "customer_type                            0.101362       1.000000 -0.074940   \n",
       "adr                                     -0.040159      -0.074940  1.000000   \n",
       "required_car_parking_spaces             -0.029223      -0.029569  0.049642   \n",
       "total_of_special_requests               -0.082939      -0.132842  0.164320   \n",
       "reservation_status                      -0.057428       0.064782 -0.049673   \n",
       "total_days                              -0.020920      -0.135648  0.061949   \n",
       "total_customers                         -0.026445      -0.114682  0.347262   \n",
       "\n",
       "                             required_car_parking_spaces  \\\n",
       "hotel                                           0.216508   \n",
       "is_canceled                                    -0.194981   \n",
       "lead_time                                      -0.116603   \n",
       "arrival_date_year                              -0.019273   \n",
       "arrival_date_month                              0.000966   \n",
       "arrival_date_week_number                        0.003083   \n",
       "arrival_date_day_of_month                       0.011258   \n",
       "meal                                           -0.040283   \n",
       "market_segment                                 -0.066557   \n",
       "distribution_channel                           -0.136533   \n",
       "is_repeated_guest                               0.080383   \n",
       "reserved_room_type                              0.130724   \n",
       "assigned_room_type                              0.157772   \n",
       "booking_changes                                 0.061943   \n",
       "deposit_type                                   -0.089048   \n",
       "days_in_waiting_list                           -0.029223   \n",
       "customer_type                                  -0.029569   \n",
       "adr                                             0.049642   \n",
       "required_car_parking_spaces                     1.000000   \n",
       "total_of_special_requests                       0.078050   \n",
       "reservation_status                              0.178649   \n",
       "total_days                                     -0.026687   \n",
       "total_customers                                 0.044405   \n",
       "\n",
       "                             total_of_special_requests  reservation_status  \\\n",
       "hotel                                         0.043603            0.122146   \n",
       "is_canceled                                  -0.237227           -0.916236   \n",
       "lead_time                                    -0.097238           -0.303482   \n",
       "arrival_date_year                             0.110611           -0.018078   \n",
       "arrival_date_month                            0.028711           -0.018452   \n",
       "arrival_date_week_number                      0.026953           -0.014659   \n",
       "arrival_date_day_of_month                     0.005377            0.011239   \n",
       "meal                                          0.025588            0.012886   \n",
       "market_segment                                0.271409           -0.058667   \n",
       "distribution_channel                          0.096475           -0.168729   \n",
       "is_repeated_guest                             0.010448            0.084314   \n",
       "reserved_room_type                            0.139595            0.056657   \n",
       "assigned_room_type                            0.125943            0.170925   \n",
       "booking_changes                               0.054347            0.139963   \n",
       "deposit_type                                 -0.265583           -0.462788   \n",
       "days_in_waiting_list                         -0.082939           -0.057428   \n",
       "customer_type                                -0.132842            0.064782   \n",
       "adr                                           0.164320           -0.049673   \n",
       "required_car_parking_spaces                   0.078050            0.178649   \n",
       "total_of_special_requests                     1.000000            0.226824   \n",
       "reservation_status                            0.226824            1.000000   \n",
       "total_days                                    0.075526           -0.014489   \n",
       "total_customers                               0.154370           -0.059516   \n",
       "\n",
       "                             total_days  total_customers  \n",
       "hotel                          0.243479         0.041462  \n",
       "is_canceled                    0.020323         0.050378  \n",
       "lead_time                      0.156666         0.076353  \n",
       "arrival_date_year              0.028608         0.047847  \n",
       "arrival_date_month             0.018921         0.029172  \n",
       "arrival_date_week_number       0.016151         0.027057  \n",
       "arrival_date_day_of_month     -0.028335         0.005292  \n",
       "meal                           0.043300        -0.007353  \n",
       "market_segment                 0.127563         0.206631  \n",
       "distribution_channel           0.101435         0.140565  \n",
       "is_repeated_guest             -0.107610        -0.134782  \n",
       "reserved_room_type             0.177973         0.375685  \n",
       "assigned_room_type             0.106155         0.293730  \n",
       "booking_changes                0.100113        -0.007452  \n",
       "deposit_type                  -0.101430        -0.076910  \n",
       "days_in_waiting_list          -0.020920        -0.026445  \n",
       "customer_type                 -0.135648        -0.114682  \n",
       "adr                            0.061949         0.347262  \n",
       "required_car_parking_spaces   -0.026687         0.044405  \n",
       "total_of_special_requests      0.075526         0.154370  \n",
       "reservation_status            -0.014489        -0.059516  \n",
       "total_days                     1.000000         0.113214  \n",
       "total_customers                0.113214         1.000000  \n",
       "\n",
       "[23 rows x 23 columns]"
      ]
     },
     "execution_count": 330,
     "metadata": {},
     "output_type": "execute_result"
    }
   ],
   "source": [
    "train.corr()"
   ]
  },
  {
   "cell_type": "code",
   "execution_count": 333,
   "metadata": {},
   "outputs": [
    {
     "data": {
      "text/plain": [
       "distribution_channel          -0.262067\n",
       "market_segment                -0.251488\n",
       "total_customers               -0.134782\n",
       "adr                           -0.134671\n",
       "lead_time                     -0.125273\n",
       "total_days                    -0.107610\n",
       "is_canceled                   -0.086414\n",
       "deposit_type                  -0.056997\n",
       "meal                          -0.056160\n",
       "arrival_date_month            -0.029176\n",
       "arrival_date_week_number      -0.028701\n",
       "reserved_room_type            -0.027408\n",
       "days_in_waiting_list          -0.022707\n",
       "customer_type                 -0.015767\n",
       "arrival_date_day_of_month     -0.008097\n",
       "arrival_date_year              0.008644\n",
       "total_of_special_requests      0.010448\n",
       "booking_changes                0.014864\n",
       "assigned_room_type             0.037547\n",
       "hotel                          0.052696\n",
       "required_car_parking_spaces    0.080383\n",
       "reservation_status             0.084314\n",
       "is_repeated_guest              1.000000\n",
       "Name: is_repeated_guest, dtype: float64"
      ]
     },
     "execution_count": 333,
     "metadata": {},
     "output_type": "execute_result"
    }
   ],
   "source": [
    "feat_corr = train.corr()\n",
    "feat_corr['is_repeated_guest'].sort_values()"
   ]
  },
  {
   "cell_type": "code",
   "execution_count": 332,
   "metadata": {},
   "outputs": [
    {
     "data": {
      "text/plain": [
       "<matplotlib.axes._subplots.AxesSubplot at 0x1d8ac9e8>"
      ]
     },
     "execution_count": 332,
     "metadata": {},
     "output_type": "execute_result"
    },
    {
     "data": {
      "image/png": "[encoded data removed]",
      "text/plain": [
       "<Figure size 576x432 with 2 Axes>"
      ]
     },
     "metadata": {},
     "output_type": "display_data"
    }
   ],
   "source": [
    "plt.figure(figsize=(8,6))\n",
    "sns.heatmap(feat_corr)"
   ]
  },
  {
   "cell_type": "markdown",
   "metadata": {},
   "source": [
    "The diagonal shows correlation of each feature with itself, hence indicates highest correlation.\n",
    "Using the table and plot we observe that few features have veryhigh correlation\n",
    "Ex:- \n",
    "1. Arrival_date_week_number and arrival_date_month = 0.99\n",
    "2. reserved_room_type vs assigned_room_type = 0.81"
   ]
  },
  {
   "cell_type": "code",
   "execution_count": 334,
   "metadata": {},
   "outputs": [
    {
     "data": {
      "text/plain": [
       "reservation_status            -0.916236\n",
       "total_of_special_requests     -0.237227\n",
       "required_car_parking_spaces   -0.194981\n",
       "assigned_room_type            -0.173262\n",
       "booking_changes               -0.142468\n",
       "hotel                         -0.133235\n",
       "is_repeated_guest             -0.086414\n",
       "customer_type                 -0.066124\n",
       "reserved_room_type            -0.059401\n",
       "meal                          -0.015696\n",
       "arrival_date_day_of_month     -0.005907\n",
       "arrival_date_week_number       0.004231\n",
       "arrival_date_month             0.007202\n",
       "arrival_date_year              0.018617\n",
       "total_days                     0.020323\n",
       "adr                            0.046497\n",
       "total_customers                0.050378\n",
       "days_in_waiting_list           0.053578\n",
       "market_segment                 0.057009\n",
       "distribution_channel           0.165857\n",
       "lead_time                      0.293862\n",
       "deposit_type                   0.465365\n",
       "is_canceled                    1.000000\n",
       "Name: is_canceled, dtype: float64"
      ]
     },
     "execution_count": 334,
     "metadata": {},
     "output_type": "execute_result"
    }
   ],
   "source": [
    "feat_corr['is_canceled'].sort_values()"
   ]
  },
  {
   "cell_type": "markdown",
   "metadata": {},
   "source": [
    "The reservation_status has high correlation with is_canceled. In Naive Bayes session, we saw that removing the reservation_status feature caused the model performance to drop considerably. Lets see how it affects Trees"
   ]
  },
  {
   "cell_type": "markdown",
   "metadata": {},
   "source": [
    "## Implementing Descion Tree"
   ]
  },
  {
   "cell_type": "markdown",
   "metadata": {},
   "source": [
    "There are various decision tree algorithms like - ID3, C4.5, C5.0 and CART. Scikit learn implements optimized version of CART alogrithm. We have multiple hyperparameters in decision tree, <a href=\"https://scikit-learn.org/stable/modules/generated/sklearn.tree.DecisionTreeClassifier.html\">sklearn documentation</a> \n",
    "<br> <br>\n",
    "We will try to see the effect of following hyperparameters on modelling -\n",
    "1. criterion -{gini and entropy}\n",
    "2. max_depth\n",
    "3. class_weight"
   ]
  },
  {
   "cell_type": "markdown",
   "metadata": {},
   "source": [
    "### Model 1 -\n",
    "Default hyperparaments -- Gini criterion, no class weight and no pruning"
   ]
  },
  {
   "cell_type": "code",
   "execution_count": 388,
   "metadata": {},
   "outputs": [],
   "source": [
    "y_train = backup_train[\"is_canceled\"]\n",
    "X_train = backup_train.drop([\"is_canceled\"], axis=1)\n",
    "y_val = backup_val[\"is_canceled\"]\n",
    "X_val = backup_val.drop([\"is_canceled\"], axis=1)"
   ]
  },
  {
   "cell_type": "markdown",
   "metadata": {},
   "source": [
    "Scikit's Decision tree and Random Forest implementations cannot handle string values so we need to encode the categorical values to convert them to numeric value. However, few other languages like R, Spark and Weka have Decision trees that can handle string feature values <br><br>\n",
    "We use one-hot encoding instead of label encoder to avoid the illusion of continuous values for categorical features"
   ]
  },
  {
   "cell_type": "code",
   "execution_count": 389,
   "metadata": {},
   "outputs": [],
   "source": [
    "cat_cols=['hotel','arrival_date_month','arrival_date_year','meal','market_segment','distribution_channel','reserved_room_type', 'assigned_room_type',\\\n",
    "        'deposit_type','customer_type','reservation_status']\n",
    "X_train_enc = pd.get_dummies(data=X_train,columns=cat_cols)\n",
    "X_val_enc = pd.get_dummies(data=X_val,columns=cat_cols)\n",
    "X_train_enc,X_val_enc =X_train_enc.align(X_val_enc, join='left', axis=1)\n",
    "X_val_enc=X_val_enc.fillna(0)"
   ]
  },
  {
   "cell_type": "code",
   "execution_count": 394,
   "metadata": {},
   "outputs": [
    {
     "data": {
      "text/html": [
       "<div>\n",
       "<style scoped>\n",
       "    .dataframe tbody tr th:only-of-type {\n",
       "        vertical-align: middle;\n",
       "    }\n",
       "\n",
       "    .dataframe tbody tr th {\n",
       "        vertical-align: top;\n",
       "    }\n",
       "\n",
       "    .dataframe thead th {\n",
       "        text-align: right;\n",
       "    }\n",
       "</style>\n",
       "<table border=\"1\" class=\"dataframe\">\n",
       "  <thead>\n",
       "    <tr style=\"text-align: right;\">\n",
       "      <th></th>\n",
       "      <th>lead_time</th>\n",
       "      <th>arrival_date_week_number</th>\n",
       "      <th>arrival_date_day_of_month</th>\n",
       "      <th>is_repeated_guest</th>\n",
       "      <th>booking_changes</th>\n",
       "      <th>days_in_waiting_list</th>\n",
       "      <th>adr</th>\n",
       "      <th>required_car_parking_spaces</th>\n",
       "      <th>total_of_special_requests</th>\n",
       "      <th>total_days</th>\n",
       "      <th>...</th>\n",
       "      <th>deposit_type_No Deposit</th>\n",
       "      <th>deposit_type_Non Refund</th>\n",
       "      <th>deposit_type_Refundable</th>\n",
       "      <th>customer_type_Contract</th>\n",
       "      <th>customer_type_Group</th>\n",
       "      <th>customer_type_Transient</th>\n",
       "      <th>customer_type_Transient-Party</th>\n",
       "      <th>reservation_status_Canceled</th>\n",
       "      <th>reservation_status_Check-Out</th>\n",
       "      <th>reservation_status_No-Show</th>\n",
       "    </tr>\n",
       "  </thead>\n",
       "  <tbody>\n",
       "    <tr>\n",
       "      <th>71397</th>\n",
       "      <td>465</td>\n",
       "      <td>27</td>\n",
       "      <td>4</td>\n",
       "      <td>0</td>\n",
       "      <td>0</td>\n",
       "      <td>0</td>\n",
       "      <td>90.0</td>\n",
       "      <td>0</td>\n",
       "      <td>0</td>\n",
       "      <td>1</td>\n",
       "      <td>...</td>\n",
       "      <td>0</td>\n",
       "      <td>1</td>\n",
       "      <td>0</td>\n",
       "      <td>0</td>\n",
       "      <td>0</td>\n",
       "      <td>1</td>\n",
       "      <td>0</td>\n",
       "      <td>1</td>\n",
       "      <td>0</td>\n",
       "      <td>0</td>\n",
       "    </tr>\n",
       "    <tr>\n",
       "      <th>52819</th>\n",
       "      <td>69</td>\n",
       "      <td>25</td>\n",
       "      <td>12</td>\n",
       "      <td>0</td>\n",
       "      <td>0</td>\n",
       "      <td>0</td>\n",
       "      <td>120.0</td>\n",
       "      <td>0</td>\n",
       "      <td>0</td>\n",
       "      <td>6</td>\n",
       "      <td>...</td>\n",
       "      <td>0</td>\n",
       "      <td>1</td>\n",
       "      <td>0</td>\n",
       "      <td>0</td>\n",
       "      <td>0</td>\n",
       "      <td>1</td>\n",
       "      <td>0</td>\n",
       "      <td>1</td>\n",
       "      <td>0</td>\n",
       "      <td>0</td>\n",
       "    </tr>\n",
       "    <tr>\n",
       "      <th>75267</th>\n",
       "      <td>299</td>\n",
       "      <td>33</td>\n",
       "      <td>12</td>\n",
       "      <td>0</td>\n",
       "      <td>0</td>\n",
       "      <td>0</td>\n",
       "      <td>62.0</td>\n",
       "      <td>0</td>\n",
       "      <td>0</td>\n",
       "      <td>2</td>\n",
       "      <td>...</td>\n",
       "      <td>0</td>\n",
       "      <td>1</td>\n",
       "      <td>0</td>\n",
       "      <td>0</td>\n",
       "      <td>0</td>\n",
       "      <td>0</td>\n",
       "      <td>1</td>\n",
       "      <td>1</td>\n",
       "      <td>0</td>\n",
       "      <td>0</td>\n",
       "    </tr>\n",
       "    <tr>\n",
       "      <th>40803</th>\n",
       "      <td>36</td>\n",
       "      <td>32</td>\n",
       "      <td>7</td>\n",
       "      <td>0</td>\n",
       "      <td>0</td>\n",
       "      <td>0</td>\n",
       "      <td>62.0</td>\n",
       "      <td>0</td>\n",
       "      <td>0</td>\n",
       "      <td>2</td>\n",
       "      <td>...</td>\n",
       "      <td>1</td>\n",
       "      <td>0</td>\n",
       "      <td>0</td>\n",
       "      <td>0</td>\n",
       "      <td>0</td>\n",
       "      <td>0</td>\n",
       "      <td>1</td>\n",
       "      <td>0</td>\n",
       "      <td>1</td>\n",
       "      <td>0</td>\n",
       "    </tr>\n",
       "    <tr>\n",
       "      <th>4784</th>\n",
       "      <td>169</td>\n",
       "      <td>14</td>\n",
       "      <td>31</td>\n",
       "      <td>0</td>\n",
       "      <td>1</td>\n",
       "      <td>0</td>\n",
       "      <td>60.0</td>\n",
       "      <td>0</td>\n",
       "      <td>0</td>\n",
       "      <td>4</td>\n",
       "      <td>...</td>\n",
       "      <td>0</td>\n",
       "      <td>0</td>\n",
       "      <td>1</td>\n",
       "      <td>0</td>\n",
       "      <td>0</td>\n",
       "      <td>0</td>\n",
       "      <td>1</td>\n",
       "      <td>0</td>\n",
       "      <td>1</td>\n",
       "      <td>0</td>\n",
       "    </tr>\n",
       "  </tbody>\n",
       "</table>\n",
       "<p>5 rows × 77 columns</p>\n",
       "</div>"
      ],
      "text/plain": [
       "       lead_time  arrival_date_week_number  arrival_date_day_of_month  \\\n",
       "71397        465                        27                          4   \n",
       "52819         69                        25                         12   \n",
       "75267        299                        33                         12   \n",
       "40803         36                        32                          7   \n",
       "4784         169                        14                         31   \n",
       "\n",
       "       is_repeated_guest  booking_changes  days_in_waiting_list    adr  \\\n",
       "71397                  0                0                     0   90.0   \n",
       "52819                  0                0                     0  120.0   \n",
       "75267                  0                0                     0   62.0   \n",
       "40803                  0                0                     0   62.0   \n",
       "4784                   0                1                     0   60.0   \n",
       "\n",
       "       required_car_parking_spaces  total_of_special_requests  total_days  \\\n",
       "71397                            0                          0           1   \n",
       "52819                            0                          0           6   \n",
       "75267                            0                          0           2   \n",
       "40803                            0                          0           2   \n",
       "4784                             0                          0           4   \n",
       "\n",
       "       ...  deposit_type_No Deposit  deposit_type_Non Refund  \\\n",
       "71397  ...                        0                        1   \n",
       "52819  ...                        0                        1   \n",
       "75267  ...                        0                        1   \n",
       "40803  ...                        1                        0   \n",
       "4784   ...                        0                        0   \n",
       "\n",
       "       deposit_type_Refundable  customer_type_Contract  customer_type_Group  \\\n",
       "71397                        0                       0                    0   \n",
       "52819                        0                       0                    0   \n",
       "75267                        0                       0                    0   \n",
       "40803                        0                       0                    0   \n",
       "4784                         1                       0                    0   \n",
       "\n",
       "       customer_type_Transient  customer_type_Transient-Party  \\\n",
       "71397                        1                              0   \n",
       "52819                        1                              0   \n",
       "75267                        0                              1   \n",
       "40803                        0                              1   \n",
       "4784                         0                              1   \n",
       "\n",
       "       reservation_status_Canceled  reservation_status_Check-Out  \\\n",
       "71397                            1                             0   \n",
       "52819                            1                             0   \n",
       "75267                            1                             0   \n",
       "40803                            0                             1   \n",
       "4784                             0                             1   \n",
       "\n",
       "       reservation_status_No-Show  \n",
       "71397                           0  \n",
       "52819                           0  \n",
       "75267                           0  \n",
       "40803                           0  \n",
       "4784                            0  \n",
       "\n",
       "[5 rows x 77 columns]"
      ]
     },
     "execution_count": 394,
     "metadata": {},
     "output_type": "execute_result"
    }
   ],
   "source": [
    "X_train_enc.head()"
   ]
  },
  {
   "cell_type": "code",
   "execution_count": 339,
   "metadata": {},
   "outputs": [
    {
     "data": {
      "text/plain": [
       "DecisionTreeClassifier(class_weight=None, criterion='gini', max_depth=None,\n",
       "            max_features=None, max_leaf_nodes=None,\n",
       "            min_impurity_decrease=0.0, min_impurity_split=None,\n",
       "            min_samples_leaf=1, min_samples_split=2,\n",
       "            min_weight_fraction_leaf=0.0, presort=False, random_state=0,\n",
       "            splitter='best')"
      ]
     },
     "execution_count": 339,
     "metadata": {},
     "output_type": "execute_result"
    }
   ],
   "source": [
    "clf = DecisionTreeClassifier(random_state = 0)\n",
    "clf.fit(X_train_enc, y_train)"
   ]
  },
  {
   "cell_type": "code",
   "execution_count": 340,
   "metadata": {},
   "outputs": [],
   "source": [
    "y_pred = clf.predict(X_val_enc)\n",
    "y_prob = clf.predict_proba(X_val_enc)"
   ]
  },
  {
   "cell_type": "code",
   "execution_count": 341,
   "metadata": {},
   "outputs": [
    {
     "data": {
      "text/plain": [
       "array([0, 0, 0, 0, 0, 0, 0, 1, 1, 1], dtype=int64)"
      ]
     },
     "execution_count": 341,
     "metadata": {},
     "output_type": "execute_result"
    }
   ],
   "source": [
    "y_pred[:10]"
   ]
  },
  {
   "cell_type": "markdown",
   "metadata": {},
   "source": [
    "## Evaluation metric"
   ]
  },
  {
   "cell_type": "code",
   "execution_count": 342,
   "metadata": {},
   "outputs": [
    {
     "name": "stdout",
     "output_type": "stream",
     "text": [
      "('test-set confusion matrix:\\n', array([[15071,     0],\n",
      "       [    0,  8807]], dtype=int64))\n",
      "('recall score: ', 1.0)\n",
      "('precision score: ', 1.0)\n",
      "('f1 score: ', 1.0)\n",
      "('accuracy score: ', 1.0)\n"
     ]
    }
   ],
   "source": [
    "from sklearn.metrics import recall_score, precision_score, accuracy_score, f1_score\n",
    "from sklearn.metrics import confusion_matrix,auc,roc_auc_score\n",
    "print('test-set confusion matrix:\\n', confusion_matrix(y_val,y_pred)) \n",
    "print(\"recall score: \", recall_score(y_val,y_pred))\n",
    "print(\"precision score: \", precision_score(y_val,y_pred))\n",
    "print(\"f1 score: \", f1_score(y_val,y_pred))\n",
    "print(\"accuracy score: \", accuracy_score(y_val,y_pred))"
   ]
  },
  {
   "cell_type": "markdown",
   "metadata": {},
   "source": [
    "Feature Importance"
   ]
  },
  {
   "cell_type": "code",
   "execution_count": 343,
   "metadata": {},
   "outputs": [
    {
     "data": {
      "text/html": [
       "<div>\n",
       "<style scoped>\n",
       "    .dataframe tbody tr th:only-of-type {\n",
       "        vertical-align: middle;\n",
       "    }\n",
       "\n",
       "    .dataframe tbody tr th {\n",
       "        vertical-align: top;\n",
       "    }\n",
       "\n",
       "    .dataframe thead th {\n",
       "        text-align: right;\n",
       "    }\n",
       "</style>\n",
       "<table border=\"1\" class=\"dataframe\">\n",
       "  <thead>\n",
       "    <tr style=\"text-align: right;\">\n",
       "      <th></th>\n",
       "      <th>Features</th>\n",
       "      <th>Importance</th>\n",
       "    </tr>\n",
       "  </thead>\n",
       "  <tbody>\n",
       "    <tr>\n",
       "      <th>75</th>\n",
       "      <td>reservation_status_Check-Out</td>\n",
       "      <td>1.0</td>\n",
       "    </tr>\n",
       "    <tr>\n",
       "      <th>0</th>\n",
       "      <td>lead_time</td>\n",
       "      <td>0.0</td>\n",
       "    </tr>\n",
       "    <tr>\n",
       "      <th>48</th>\n",
       "      <td>reserved_room_type_C</td>\n",
       "      <td>0.0</td>\n",
       "    </tr>\n",
       "    <tr>\n",
       "      <th>55</th>\n",
       "      <td>reserved_room_type_P</td>\n",
       "      <td>0.0</td>\n",
       "    </tr>\n",
       "    <tr>\n",
       "      <th>54</th>\n",
       "      <td>reserved_room_type_L</td>\n",
       "      <td>0.0</td>\n",
       "    </tr>\n",
       "  </tbody>\n",
       "</table>\n",
       "</div>"
      ],
      "text/plain": [
       "                        Features  Importance\n",
       "75  reservation_status_Check-Out         1.0\n",
       "0                      lead_time         0.0\n",
       "48          reserved_room_type_C         0.0\n",
       "55          reserved_room_type_P         0.0\n",
       "54          reserved_room_type_L         0.0"
      ]
     },
     "execution_count": 343,
     "metadata": {},
     "output_type": "execute_result"
    }
   ],
   "source": [
    "d = pd.DataFrame(\n",
    "    {'Features': list(X_train_enc.columns),\n",
    "     'Importance': clf.feature_importances_\n",
    "    })\n",
    "d.sort_values(by=['Importance'],ascending=False)[:5]"
   ]
  },
  {
   "cell_type": "markdown",
   "metadata": {},
   "source": [
    "The model performance is perfect but only 1 feature has been used in the model, hence we should remove that feature to avoid data leak"
   ]
  },
  {
   "cell_type": "markdown",
   "metadata": {},
   "source": [
    "### Model 2 - \n",
    "Remove the feature that is highly correlated with target feature\n",
    "<br>\n",
    "<b>Reservation_status</b> has high correlation with is_canceled. Looking at the values in column reveals that canceled is a reservation type. This might be causing data leak. Hence we will delete this feature and train with default hyperparameters"
   ]
  },
  {
   "cell_type": "code",
   "execution_count": 35,
   "metadata": {},
   "outputs": [
    {
     "data": {
      "text/plain": [
       "array(['Check-Out', 'Canceled', 'No-Show'], dtype=object)"
      ]
     },
     "execution_count": 35,
     "metadata": {},
     "output_type": "execute_result"
    }
   ],
   "source": [
    "backup['reservation_status'].unique()"
   ]
  },
  {
   "cell_type": "code",
   "execution_count": 344,
   "metadata": {},
   "outputs": [],
   "source": [
    "X_train = X_train.drop('reservation_status',axis=1)\n",
    "X_val = X_val.drop('reservation_status',axis=1)"
   ]
  },
  {
   "cell_type": "code",
   "execution_count": 345,
   "metadata": {},
   "outputs": [],
   "source": [
    "cat_cols=['hotel','arrival_date_month','arrival_date_year','meal','market_segment','distribution_channel','reserved_room_type', 'assigned_room_type',\\\n",
    "        'deposit_type','customer_type']\n",
    "X_train_enc = pd.get_dummies(data=X_train,columns=cat_cols,drop_first=True)\n",
    "X_val_enc = pd.get_dummies(data=X_val,columns=cat_cols,drop_first=True)\n",
    "X_train_enc,X_val_enc =X_train_enc.align(X_val_enc, join='left', axis=1)\n",
    "X_val_enc=X_val_enc.fillna(0)"
   ]
  },
  {
   "cell_type": "code",
   "execution_count": 346,
   "metadata": {},
   "outputs": [
    {
     "data": {
      "text/plain": [
       "DecisionTreeClassifier(class_weight=None, criterion='gini', max_depth=None,\n",
       "            max_features=None, max_leaf_nodes=None,\n",
       "            min_impurity_decrease=0.0, min_impurity_split=None,\n",
       "            min_samples_leaf=1, min_samples_split=2,\n",
       "            min_weight_fraction_leaf=0.0, presort=False, random_state=0,\n",
       "            splitter='best')"
      ]
     },
     "execution_count": 346,
     "metadata": {},
     "output_type": "execute_result"
    }
   ],
   "source": [
    "clf2 = DecisionTreeClassifier(random_state = 0)\n",
    "clf2.fit(X_train_enc, y_train)"
   ]
  },
  {
   "cell_type": "code",
   "execution_count": 347,
   "metadata": {},
   "outputs": [],
   "source": [
    "y_pred2 = clf2.predict(X_val_enc)\n",
    "y_prob2 = clf2.predict_proba(X_val_enc)"
   ]
  },
  {
   "cell_type": "code",
   "execution_count": 348,
   "metadata": {},
   "outputs": [
    {
     "name": "stdout",
     "output_type": "stream",
     "text": [
      "('test-set confusion matrix:\\n', array([[12798,  2273],\n",
      "       [ 2143,  6664]], dtype=int64))\n",
      "('recall score: ', 0.7566708300215738)\n",
      "('precision score: ', 0.7456640930961173)\n",
      "('f1 score: ', 0.7511271415689811)\n",
      "('accuracy score: ', 0.8150598877627943)\n"
     ]
    }
   ],
   "source": [
    "print('test-set confusion matrix:\\n', confusion_matrix(y_val,y_pred2)) \n",
    "print(\"recall score: \", recall_score(y_val,y_pred2))\n",
    "print(\"precision score: \", precision_score(y_val,y_pred2))\n",
    "print(\"f1 score: \", f1_score(y_val,y_pred2))\n",
    "print(\"accuracy score: \", accuracy_score(y_val,y_pred2))"
   ]
  },
  {
   "cell_type": "code",
   "execution_count": 349,
   "metadata": {},
   "outputs": [
    {
     "data": {
      "text/html": [
       "<div>\n",
       "<style scoped>\n",
       "    .dataframe tbody tr th:only-of-type {\n",
       "        vertical-align: middle;\n",
       "    }\n",
       "\n",
       "    .dataframe tbody tr th {\n",
       "        vertical-align: top;\n",
       "    }\n",
       "\n",
       "    .dataframe thead th {\n",
       "        text-align: right;\n",
       "    }\n",
       "</style>\n",
       "<table border=\"1\" class=\"dataframe\">\n",
       "  <thead>\n",
       "    <tr style=\"text-align: right;\">\n",
       "      <th></th>\n",
       "      <th>Features</th>\n",
       "      <th>Importance</th>\n",
       "    </tr>\n",
       "  </thead>\n",
       "  <tbody>\n",
       "    <tr>\n",
       "      <th>59</th>\n",
       "      <td>deposit_type_Non Refund</td>\n",
       "      <td>0.236000</td>\n",
       "    </tr>\n",
       "    <tr>\n",
       "      <th>0</th>\n",
       "      <td>lead_time</td>\n",
       "      <td>0.165224</td>\n",
       "    </tr>\n",
       "    <tr>\n",
       "      <th>6</th>\n",
       "      <td>adr</td>\n",
       "      <td>0.121271</td>\n",
       "    </tr>\n",
       "    <tr>\n",
       "      <th>2</th>\n",
       "      <td>arrival_date_day_of_month</td>\n",
       "      <td>0.078097</td>\n",
       "    </tr>\n",
       "    <tr>\n",
       "      <th>8</th>\n",
       "      <td>total_of_special_requests</td>\n",
       "      <td>0.059481</td>\n",
       "    </tr>\n",
       "    <tr>\n",
       "      <th>1</th>\n",
       "      <td>arrival_date_week_number</td>\n",
       "      <td>0.056214</td>\n",
       "    </tr>\n",
       "    <tr>\n",
       "      <th>9</th>\n",
       "      <td>total_days</td>\n",
       "      <td>0.056021</td>\n",
       "    </tr>\n",
       "    <tr>\n",
       "      <th>34</th>\n",
       "      <td>market_segment_Online TA</td>\n",
       "      <td>0.029904</td>\n",
       "    </tr>\n",
       "    <tr>\n",
       "      <th>7</th>\n",
       "      <td>required_car_parking_spaces</td>\n",
       "      <td>0.019692</td>\n",
       "    </tr>\n",
       "    <tr>\n",
       "      <th>4</th>\n",
       "      <td>booking_changes</td>\n",
       "      <td>0.019241</td>\n",
       "    </tr>\n",
       "    <tr>\n",
       "      <th>10</th>\n",
       "      <td>total_customers</td>\n",
       "      <td>0.018155</td>\n",
       "    </tr>\n",
       "    <tr>\n",
       "      <th>11</th>\n",
       "      <td>hotel_Resort Hotel</td>\n",
       "      <td>0.010825</td>\n",
       "    </tr>\n",
       "    <tr>\n",
       "      <th>51</th>\n",
       "      <td>assigned_room_type_D</td>\n",
       "      <td>0.010504</td>\n",
       "    </tr>\n",
       "    <tr>\n",
       "      <th>23</th>\n",
       "      <td>arrival_date_year_2016</td>\n",
       "      <td>0.009811</td>\n",
       "    </tr>\n",
       "    <tr>\n",
       "      <th>62</th>\n",
       "      <td>customer_type_Transient</td>\n",
       "      <td>0.009271</td>\n",
       "    </tr>\n",
       "  </tbody>\n",
       "</table>\n",
       "</div>"
      ],
      "text/plain": [
       "                       Features  Importance\n",
       "59      deposit_type_Non Refund    0.236000\n",
       "0                     lead_time    0.165224\n",
       "6                           adr    0.121271\n",
       "2     arrival_date_day_of_month    0.078097\n",
       "8     total_of_special_requests    0.059481\n",
       "1      arrival_date_week_number    0.056214\n",
       "9                    total_days    0.056021\n",
       "34     market_segment_Online TA    0.029904\n",
       "7   required_car_parking_spaces    0.019692\n",
       "4               booking_changes    0.019241\n",
       "10              total_customers    0.018155\n",
       "11           hotel_Resort Hotel    0.010825\n",
       "51         assigned_room_type_D    0.010504\n",
       "23       arrival_date_year_2016    0.009811\n",
       "62      customer_type_Transient    0.009271"
      ]
     },
     "execution_count": 349,
     "metadata": {},
     "output_type": "execute_result"
    }
   ],
   "source": [
    "d = pd.DataFrame(\n",
    "    {'Features': list(X_train_enc.columns),\n",
    "     'Importance': clf2.feature_importances_\n",
    "    })\n",
    "d.sort_values(by=['Importance'],ascending=False)[:15]"
   ]
  },
  {
   "cell_type": "markdown",
   "metadata": {},
   "source": [
    "### Model 3\n",
    "Let us remove 1 feature from the correlated feature pair, We will remove the feature with lesser importance\n",
    "1. Arrival_date_week_number and arrival_date_month = 0.99\n",
    "2. reserved_room_type vs assigned_room_type = 0.81"
   ]
  },
  {
   "cell_type": "code",
   "execution_count": 367,
   "metadata": {},
   "outputs": [],
   "source": [
    "# X_train = X_train.drop('arrival_date_month',axis=1)\n",
    "# X_val = X_val.drop('arrival_date_month',axis=1)\n",
    "\n",
    "X_train = X_train.drop('market_segment',axis=1)\n",
    "X_val = X_val.drop('market_segment',axis=1)\n",
    "\n",
    "# X_train = X_train.drop('reserved_room_type',axis=1)\n",
    "# X_val = X_val.drop('reserved_room_type',axis=1)"
   ]
  },
  {
   "cell_type": "code",
   "execution_count": 186,
   "metadata": {},
   "outputs": [
    {
     "data": {
      "text/plain": [
       "hotel                           object\n",
       "lead_time                        int64\n",
       "arrival_date_year                int64\n",
       "arrival_date_week_number         int64\n",
       "arrival_date_day_of_month        int64\n",
       "meal                            object\n",
       "distribution_channel            object\n",
       "is_repeated_guest                int64\n",
       "assigned_room_type              object\n",
       "booking_changes                  int64\n",
       "deposit_type                    object\n",
       "days_in_waiting_list             int64\n",
       "customer_type                   object\n",
       "adr                            float64\n",
       "required_car_parking_spaces      int64\n",
       "total_of_special_requests        int64\n",
       "total_days                       int64\n",
       "total_customers                float64\n",
       "dtype: object"
      ]
     },
     "execution_count": 186,
     "metadata": {},
     "output_type": "execute_result"
    }
   ],
   "source": [
    "X_train.dtypes"
   ]
  },
  {
   "cell_type": "code",
   "execution_count": 368,
   "metadata": {},
   "outputs": [],
   "source": [
    "cat_cols=['hotel','arrival_date_year','meal','distribution_channel','assigned_room_type',\\\n",
    "        'deposit_type','customer_type']\n",
    "X_train_enc = pd.get_dummies(data=X_train,columns=cat_cols,drop_first=True)\n",
    "X_val_enc = pd.get_dummies(data=X_val,columns=cat_cols,drop_first=True)\n",
    "X_train_enc,X_val_enc =X_train_enc.align(X_val_enc, join='left', axis=1)\n",
    "X_val_enc=X_val_enc.fillna(0)"
   ]
  },
  {
   "cell_type": "code",
   "execution_count": 369,
   "metadata": {},
   "outputs": [
    {
     "name": "stdout",
     "output_type": "stream",
     "text": [
      "('f1 score: ', 0.7402766017499293)\n"
     ]
    }
   ],
   "source": [
    "clf3 = DecisionTreeClassifier(random_state = 0)\n",
    "clf3.fit(X_train_enc, y_train)\n",
    "y_pred3=clf3.predict(X_val_enc)\n",
    "print(\"f1 score: \", f1_score(y_val,y_pred3))"
   ]
  },
  {
   "cell_type": "code",
   "execution_count": 353,
   "metadata": {},
   "outputs": [
    {
     "data": {
      "text/html": [
       "<div>\n",
       "<style scoped>\n",
       "    .dataframe tbody tr th:only-of-type {\n",
       "        vertical-align: middle;\n",
       "    }\n",
       "\n",
       "    .dataframe tbody tr th {\n",
       "        vertical-align: top;\n",
       "    }\n",
       "\n",
       "    .dataframe thead th {\n",
       "        text-align: right;\n",
       "    }\n",
       "</style>\n",
       "<table border=\"1\" class=\"dataframe\">\n",
       "  <thead>\n",
       "    <tr style=\"text-align: right;\">\n",
       "      <th></th>\n",
       "      <th>Features</th>\n",
       "      <th>Importance</th>\n",
       "    </tr>\n",
       "  </thead>\n",
       "  <tbody>\n",
       "    <tr>\n",
       "      <th>39</th>\n",
       "      <td>deposit_type_Non Refund</td>\n",
       "      <td>0.236000</td>\n",
       "    </tr>\n",
       "    <tr>\n",
       "      <th>0</th>\n",
       "      <td>lead_time</td>\n",
       "      <td>0.163579</td>\n",
       "    </tr>\n",
       "    <tr>\n",
       "      <th>6</th>\n",
       "      <td>adr</td>\n",
       "      <td>0.129683</td>\n",
       "    </tr>\n",
       "    <tr>\n",
       "      <th>2</th>\n",
       "      <td>arrival_date_day_of_month</td>\n",
       "      <td>0.083510</td>\n",
       "    </tr>\n",
       "    <tr>\n",
       "      <th>1</th>\n",
       "      <td>arrival_date_week_number</td>\n",
       "      <td>0.071388</td>\n",
       "    </tr>\n",
       "    <tr>\n",
       "      <th>8</th>\n",
       "      <td>total_of_special_requests</td>\n",
       "      <td>0.059437</td>\n",
       "    </tr>\n",
       "    <tr>\n",
       "      <th>9</th>\n",
       "      <td>total_days</td>\n",
       "      <td>0.057805</td>\n",
       "    </tr>\n",
       "    <tr>\n",
       "      <th>27</th>\n",
       "      <td>market_segment_Online TA</td>\n",
       "      <td>0.029959</td>\n",
       "    </tr>\n",
       "    <tr>\n",
       "      <th>10</th>\n",
       "      <td>total_customers</td>\n",
       "      <td>0.019649</td>\n",
       "    </tr>\n",
       "    <tr>\n",
       "      <th>7</th>\n",
       "      <td>required_car_parking_spaces</td>\n",
       "      <td>0.019362</td>\n",
       "    </tr>\n",
       "    <tr>\n",
       "      <th>4</th>\n",
       "      <td>booking_changes</td>\n",
       "      <td>0.019061</td>\n",
       "    </tr>\n",
       "    <tr>\n",
       "      <th>31</th>\n",
       "      <td>assigned_room_type_D</td>\n",
       "      <td>0.013509</td>\n",
       "    </tr>\n",
       "    <tr>\n",
       "      <th>11</th>\n",
       "      <td>hotel_Resort Hotel</td>\n",
       "      <td>0.011121</td>\n",
       "    </tr>\n",
       "    <tr>\n",
       "      <th>12</th>\n",
       "      <td>arrival_date_year_2016</td>\n",
       "      <td>0.011053</td>\n",
       "    </tr>\n",
       "    <tr>\n",
       "      <th>42</th>\n",
       "      <td>customer_type_Transient</td>\n",
       "      <td>0.009605</td>\n",
       "    </tr>\n",
       "  </tbody>\n",
       "</table>\n",
       "</div>"
      ],
      "text/plain": [
       "                       Features  Importance\n",
       "39      deposit_type_Non Refund    0.236000\n",
       "0                     lead_time    0.163579\n",
       "6                           adr    0.129683\n",
       "2     arrival_date_day_of_month    0.083510\n",
       "1      arrival_date_week_number    0.071388\n",
       "8     total_of_special_requests    0.059437\n",
       "9                    total_days    0.057805\n",
       "27     market_segment_Online TA    0.029959\n",
       "10              total_customers    0.019649\n",
       "7   required_car_parking_spaces    0.019362\n",
       "4               booking_changes    0.019061\n",
       "31         assigned_room_type_D    0.013509\n",
       "11           hotel_Resort Hotel    0.011121\n",
       "12       arrival_date_year_2016    0.011053\n",
       "42      customer_type_Transient    0.009605"
      ]
     },
     "execution_count": 353,
     "metadata": {},
     "output_type": "execute_result"
    }
   ],
   "source": [
    "d = pd.DataFrame(\n",
    "    {'Features': list(X_train_enc.columns),\n",
    "     'Importance': clf3.feature_importances_\n",
    "    })\n",
    "d.sort_values(by=['Importance'],ascending=False)[:15]"
   ]
  },
  {
   "cell_type": "markdown",
   "metadata": {},
   "source": [
    "### Model 4 - \n",
    "Use entropy criterion <br><br>\n",
    "$Gini Impurity= \\sum_{k=1}^{c} (P_k)*(1-P_k)$ <br><br>\n",
    "$Entropy = \\sum_{k=1}^{c}-P_k*log_2(P_k)$\n",
    "<img src=\"img/Impurity criterion.PNG\" width=\"400\"/>\n",
    "We see that both criterion follow same curve indicating that there is no significant difference between the two."
   ]
  },
  {
   "cell_type": "code",
   "execution_count": 371,
   "metadata": {},
   "outputs": [
    {
     "data": {
      "text/plain": [
       "DecisionTreeClassifier(class_weight=None, criterion='entropy', max_depth=None,\n",
       "            max_features=None, max_leaf_nodes=None,\n",
       "            min_impurity_decrease=0.0, min_impurity_split=None,\n",
       "            min_samples_leaf=1, min_samples_split=2,\n",
       "            min_weight_fraction_leaf=0.0, presort=False, random_state=0,\n",
       "            splitter='best')"
      ]
     },
     "execution_count": 371,
     "metadata": {},
     "output_type": "execute_result"
    }
   ],
   "source": [
    "clf4 = DecisionTreeClassifier(criterion=\"entropy\",random_state = 0)\n",
    "clf4.fit(X_train_enc, y_train)"
   ]
  },
  {
   "cell_type": "code",
   "execution_count": 372,
   "metadata": {},
   "outputs": [
    {
     "name": "stdout",
     "output_type": "stream",
     "text": [
      "('f1 score: ', 0.7368361836183618)\n"
     ]
    }
   ],
   "source": [
    "y_pred4 = clf4.predict(X_val_enc)\n",
    "y_prob4 = clf4.predict_proba(X_val_enc)\n",
    "print(\"f1 score: \", f1_score(y_val,y_pred4))"
   ]
  },
  {
   "cell_type": "markdown",
   "metadata": {},
   "source": [
    "Impurity criterion did not affect our model performance. The feature importance of the 2 models also look similar "
   ]
  },
  {
   "cell_type": "code",
   "execution_count": 235,
   "metadata": {},
   "outputs": [
    {
     "data": {
      "text/html": [
       "<div>\n",
       "<style scoped>\n",
       "    .dataframe tbody tr th:only-of-type {\n",
       "        vertical-align: middle;\n",
       "    }\n",
       "\n",
       "    .dataframe tbody tr th {\n",
       "        vertical-align: top;\n",
       "    }\n",
       "\n",
       "    .dataframe thead th {\n",
       "        text-align: right;\n",
       "    }\n",
       "</style>\n",
       "<table border=\"1\" class=\"dataframe\">\n",
       "  <thead>\n",
       "    <tr style=\"text-align: right;\">\n",
       "      <th></th>\n",
       "      <th>Clf3_Importance</th>\n",
       "      <th>Clf4_Importance</th>\n",
       "      <th>Features</th>\n",
       "    </tr>\n",
       "  </thead>\n",
       "  <tbody>\n",
       "    <tr>\n",
       "      <th>31</th>\n",
       "      <td>0.236128</td>\n",
       "      <td>0.202267</td>\n",
       "      <td>deposit_type_Non Refund</td>\n",
       "    </tr>\n",
       "    <tr>\n",
       "      <th>0</th>\n",
       "      <td>0.167107</td>\n",
       "      <td>0.169751</td>\n",
       "      <td>lead_time</td>\n",
       "    </tr>\n",
       "    <tr>\n",
       "      <th>7</th>\n",
       "      <td>0.137075</td>\n",
       "      <td>0.142996</td>\n",
       "      <td>adr</td>\n",
       "    </tr>\n",
       "    <tr>\n",
       "      <th>3</th>\n",
       "      <td>0.089186</td>\n",
       "      <td>0.099230</td>\n",
       "      <td>arrival_date_day_of_month</td>\n",
       "    </tr>\n",
       "    <tr>\n",
       "      <th>2</th>\n",
       "      <td>0.073784</td>\n",
       "      <td>0.080865</td>\n",
       "      <td>arrival_date_week_number</td>\n",
       "    </tr>\n",
       "    <tr>\n",
       "      <th>10</th>\n",
       "      <td>0.057883</td>\n",
       "      <td>0.062199</td>\n",
       "      <td>total_days</td>\n",
       "    </tr>\n",
       "    <tr>\n",
       "      <th>9</th>\n",
       "      <td>0.031294</td>\n",
       "      <td>0.026649</td>\n",
       "      <td>total_of_special_requests</td>\n",
       "    </tr>\n",
       "    <tr>\n",
       "      <th>5</th>\n",
       "      <td>0.026980</td>\n",
       "      <td>0.021179</td>\n",
       "      <td>booking_changes</td>\n",
       "    </tr>\n",
       "    <tr>\n",
       "      <th>8</th>\n",
       "      <td>0.020684</td>\n",
       "      <td>0.033804</td>\n",
       "      <td>required_car_parking_spaces</td>\n",
       "    </tr>\n",
       "    <tr>\n",
       "      <th>11</th>\n",
       "      <td>0.020149</td>\n",
       "      <td>0.021460</td>\n",
       "      <td>total_customers</td>\n",
       "    </tr>\n",
       "    <tr>\n",
       "      <th>1</th>\n",
       "      <td>0.018694</td>\n",
       "      <td>0.021866</td>\n",
       "      <td>arrival_date_year</td>\n",
       "    </tr>\n",
       "    <tr>\n",
       "      <th>34</th>\n",
       "      <td>0.017693</td>\n",
       "      <td>0.014355</td>\n",
       "      <td>customer_type_Transient</td>\n",
       "    </tr>\n",
       "    <tr>\n",
       "      <th>23</th>\n",
       "      <td>0.016283</td>\n",
       "      <td>0.014014</td>\n",
       "      <td>assigned_room_type_D</td>\n",
       "    </tr>\n",
       "    <tr>\n",
       "      <th>35</th>\n",
       "      <td>0.013782</td>\n",
       "      <td>0.018880</td>\n",
       "      <td>customer_type_Transient-Party</td>\n",
       "    </tr>\n",
       "    <tr>\n",
       "      <th>12</th>\n",
       "      <td>0.012889</td>\n",
       "      <td>0.011813</td>\n",
       "      <td>hotel_Resort Hotel</td>\n",
       "    </tr>\n",
       "  </tbody>\n",
       "</table>\n",
       "</div>"
      ],
      "text/plain": [
       "    Clf3_Importance  Clf4_Importance                       Features\n",
       "31         0.236128         0.202267        deposit_type_Non Refund\n",
       "0          0.167107         0.169751                      lead_time\n",
       "7          0.137075         0.142996                            adr\n",
       "3          0.089186         0.099230      arrival_date_day_of_month\n",
       "2          0.073784         0.080865       arrival_date_week_number\n",
       "10         0.057883         0.062199                     total_days\n",
       "9          0.031294         0.026649      total_of_special_requests\n",
       "5          0.026980         0.021179                booking_changes\n",
       "8          0.020684         0.033804    required_car_parking_spaces\n",
       "11         0.020149         0.021460                total_customers\n",
       "1          0.018694         0.021866              arrival_date_year\n",
       "34         0.017693         0.014355        customer_type_Transient\n",
       "23         0.016283         0.014014           assigned_room_type_D\n",
       "35         0.013782         0.018880  customer_type_Transient-Party\n",
       "12         0.012889         0.011813             hotel_Resort Hotel"
      ]
     },
     "execution_count": 235,
     "metadata": {},
     "output_type": "execute_result"
    }
   ],
   "source": [
    "d = pd.DataFrame(\n",
    "    {'Features': list(X_train_enc.columns),\n",
    "     'Clf3_Importance': clf3.feature_importances_,\n",
    "     'Clf4_Importance': clf4.feature_importances_\n",
    "\n",
    "    })\n",
    "d.sort_values(by=['Clf3_Importance'],ascending=False)[:15]"
   ]
  },
  {
   "cell_type": "markdown",
   "metadata": {},
   "source": [
    "<b>Training metric</b>"
   ]
  },
  {
   "cell_type": "code",
   "execution_count": 356,
   "metadata": {},
   "outputs": [
    {
     "name": "stdout",
     "output_type": "stream",
     "text": [
      "('test-set confusion matrix:\\n', array([[45031,   146],\n",
      "       [  403, 26054]], dtype=int64))\n",
      "('f1 score: ', 0.9895740357407372)\n",
      "('accuracy score: ', 0.9923360415445179)\n"
     ]
    }
   ],
   "source": [
    "y_pred4_train = clf4.predict(X_train_enc)\n",
    "print('test-set confusion matrix:\\n', confusion_matrix(y_train,y_pred4_train)) \n",
    "print(\"f1 score: \", f1_score(y_train,y_pred4_train))\n",
    "print(\"accuracy score: \", accuracy_score(y_train,y_pred4_train))"
   ]
  },
  {
   "cell_type": "markdown",
   "metadata": {},
   "source": [
    "We see that the model has very low training error but considerably high test error. This indicates that the model is overfitted. "
   ]
  },
  {
   "cell_type": "markdown",
   "metadata": {},
   "source": [
    "### Model 5 -\n",
    "Pruning the model to avoid overfitting <br>\n",
    "We have multiple hyperparameters such as max_depth, min_sample_split etc which can be tuned to prune the model. "
   ]
  },
  {
   "cell_type": "code",
   "execution_count": 276,
   "metadata": {},
   "outputs": [
    {
     "data": {
      "image/png": "[encoded data removed]",
      "text/plain": [
       "<Figure size 720x720 with 1 Axes>"
      ]
     },
     "metadata": {},
     "output_type": "display_data"
    }
   ],
   "source": [
    "max_depths = np.linspace(1, 32, 32, endpoint=True)\n",
    "train_results = []\n",
    "test_results = []\n",
    "for max_depth in max_depths:\n",
    "   clf5 = DecisionTreeClassifier(max_depth=max_depth)\n",
    "   clf5.fit(X_train_enc, y_train)\n",
    "   train_pred = clf5.predict(X_train_enc)\n",
    "   false_positive_rate, true_positive_rate, thresholds = roc_curve(y_train, train_pred)\n",
    "   roc_auc = auc(false_positive_rate, true_positive_rate)\n",
    "\n",
    "   train_results.append(roc_auc)\n",
    "   y_pred = clf5.predict(X_val_enc)\n",
    "   false_positive_rate, true_positive_rate, thresholds = roc_curve(y_val, y_pred)\n",
    "   roc_auc = auc(false_positive_rate, true_positive_rate)\n",
    "\n",
    "   test_results.append(roc_auc)\n",
    "plt.figure(figsize=(10,10))\n",
    "line1, = plt.plot(max_depths, train_results, 'b', label=\"Train AUC\")\n",
    "line2, = plt.plot(max_depths, test_results, 'r', label=\"Val AUC\")\n",
    "plt.legend(handler_map={line1: HandlerLine2D(numpoints=2)})\n",
    "plt.ylabel('AUC score')\n",
    "plt.xlabel('Tree depth')\n",
    "plt.show()"
   ]
  },
  {
   "cell_type": "markdown",
   "metadata": {},
   "source": [
    "As the tree depth increases, our training error reduces and we get a perfect AUC score of 1, however the widening gap between the test and training error curve indicates that the model is unable to generalize well on unseen data i.e. the model has overfitted"
   ]
  },
  {
   "cell_type": "code",
   "execution_count": 373,
   "metadata": {},
   "outputs": [
    {
     "name": "stdout",
     "output_type": "stream",
     "text": [
      "('Train data f1 score: ', 0.771371102916527)\n",
      "('Val data f1 score: ', 0.7143573667711598)\n"
     ]
    }
   ],
   "source": [
    "clf5 = DecisionTreeClassifier(criterion=\"gini\",random_state = 0,max_depth=15)\n",
    "clf5.fit(X_train_enc, y_train)\n",
    "y_pred5 = clf5.predict(X_val_enc)\n",
    "y_pred5_train = clf5.predict(X_train_enc)\n",
    "print(\"Train data f1 score: \", f1_score(y_train,y_pred5_train))\n",
    "print(\"Val data f1 score: \", f1_score(y_val,y_pred5))"
   ]
  },
  {
   "cell_type": "markdown",
   "metadata": {},
   "source": [
    "### Model 6\n",
    "Experiment with class weight. Our data is slightly imbalanced, so try to assign higher weight for positive samples versus negative samples using <b>class_weight</b> hyeperparameter. We can assign {class:weight} or “balanced”<br>\n",
    "\n",
    "The “balanced” mode uses the values of y to automatically adjust weights inversely proportional to class frequencies in the input data as n_samples / (n_classes * np.bincount(y))\n",
    "</br>"
   ]
  },
  {
   "cell_type": "code",
   "execution_count": 376,
   "metadata": {},
   "outputs": [
    {
     "name": "stdout",
     "output_type": "stream",
     "text": [
      "('Train data f1 score: ', 0.7696477877298136)\n",
      "('Val data f1 score: ', 0.7216203960296266)\n"
     ]
    }
   ],
   "source": [
    "clf6 = DecisionTreeClassifier(criterion=\"gini\",random_state = 0,max_depth=15,class_weight={0:0.35,1:0.65})\n",
    "clf6.fit(X_train_enc, y_train)\n",
    "y_pred6 = clf6.predict(X_val_enc)\n",
    "y_pred6_train = clf6.predict(X_train_enc)\n",
    "print(\"Train data f1 score: \", f1_score(y_train,y_pred6_train))\n",
    "print(\"Val data f1 score: \", f1_score(y_val,y_pred6))"
   ]
  },
  {
   "cell_type": "markdown",
   "metadata": {},
   "source": [
    "By adjusting the class_weight, our test f1 score has improved by 0.7%"
   ]
  },
  {
   "cell_type": "markdown",
   "metadata": {},
   "source": [
    "Decision tree has many hyperparameters and we can use sklearn's <b>GridSearchCV</b> or <b>RandomizedSearchCV</b> to find the best hyperparaters. <a href=\"https://scikit-learn.org/stable/modules/grid_search.html\">Sklearn documentation</a>"
   ]
  },
  {
   "cell_type": "markdown",
   "metadata": {},
   "source": [
    "## Ensemble model - Random forest\n",
    "Random forest is a ensemble of decision trees which aims to improve prediction accuracy while avoiding over fitting. In sklearn's Random forest implementation, each subsample used to fit each tree is same size as actual data but sampled using replacement if <b>bootstrap </b> hyperparameter is set to True. It has many hyperparameters similar to decision tree. <a href=\"https://scikit-learn.org/stable/modules/generated/sklearn.ensemble.RandomForestClassifier.html\">sklearn documenatation </a>"
   ]
  },
  {
   "cell_type": "code",
   "execution_count": 172,
   "metadata": {},
   "outputs": [
    {
     "data": {
      "text/plain": [
       "hotel                            int32\n",
       "lead_time                        int64\n",
       "arrival_date_year                int64\n",
       "arrival_date_month               int64\n",
       "arrival_date_week_number         int64\n",
       "arrival_date_day_of_month        int64\n",
       "meal                             int32\n",
       "market_segment                   int32\n",
       "distribution_channel             int32\n",
       "is_repeated_guest                int64\n",
       "reserved_room_type               int32\n",
       "assigned_room_type               int32\n",
       "booking_changes                  int64\n",
       "deposit_type                    object\n",
       "days_in_waiting_list             int64\n",
       "customer_type                   object\n",
       "adr                            float64\n",
       "required_car_parking_spaces      int64\n",
       "total_of_special_requests        int64\n",
       "total_days                       int64\n",
       "total_customers                float64\n",
       "dtype: object"
      ]
     },
     "execution_count": 172,
     "metadata": {},
     "output_type": "execute_result"
    }
   ],
   "source": [
    "X_train.dtypes"
   ]
  },
  {
   "cell_type": "code",
   "execution_count": 395,
   "metadata": {},
   "outputs": [],
   "source": [
    "y_train = backup_train[\"is_canceled\"]\n",
    "X_train = backup_train.drop([\"is_canceled\"], axis=1).drop([\"reservation_status\"],axis=1)\n",
    "y_val = backup_val[\"is_canceled\"]\n",
    "X_val = backup_val.drop([\"is_canceled\"], axis=1).drop([\"reservation_status\"],axis=1)"
   ]
  },
  {
   "cell_type": "code",
   "execution_count": 396,
   "metadata": {},
   "outputs": [],
   "source": [
    "cat_cols=['hotel','arrival_date_month','arrival_date_year','meal','market_segment','distribution_channel','reserved_room_type', 'assigned_room_type',\\\n",
    "        'deposit_type','customer_type']\n",
    "X_train_enc = pd.get_dummies(data=X_train,columns=cat_cols,drop_first=True)\n",
    "X_val_enc = pd.get_dummies(data=X_val,columns=cat_cols,drop_first=True)\n",
    "X_train_enc,X_val_enc =X_train_enc.align(X_val_enc, join='left', axis=1)\n",
    "X_val_enc=X_val_enc.fillna(0)"
   ]
  },
  {
   "cell_type": "code",
   "execution_count": 201,
   "metadata": {},
   "outputs": [
    {
     "name": "stdout",
     "output_type": "stream",
     "text": [
      "('Train data f1 score: ', 0.9748350468006752)\n",
      "('Val data f1 score: ', 0.7762686751450796)\n"
     ]
    }
   ],
   "source": [
    "rf1=RandomForestClassifier()\n",
    "rf1.fit(X_train_enc,y_train)\n",
    "y_pred_rf1=rf1.predict(X_val_enc)\n",
    "y_pred_rf1_train=rf1.predict(X_train_enc)\n",
    "\n",
    "print(\"Train data f1 score: \", f1_score(y_train,y_pred_rf1_train))\n",
    "print(\"Val data f1 score: \", f1_score(y_val,y_pred_rf1))"
   ]
  },
  {
   "cell_type": "code",
   "execution_count": 104,
   "metadata": {},
   "outputs": [
    {
     "data": {
      "text/plain": [
       "{'bootstrap': True,\n",
       " 'class_weight': None,\n",
       " 'criterion': 'gini',\n",
       " 'max_depth': None,\n",
       " 'max_features': 'auto',\n",
       " 'max_leaf_nodes': None,\n",
       " 'min_impurity_decrease': 0.0,\n",
       " 'min_impurity_split': None,\n",
       " 'min_samples_leaf': 1,\n",
       " 'min_samples_split': 2,\n",
       " 'min_weight_fraction_leaf': 0.0,\n",
       " 'n_estimators': 10,\n",
       " 'n_jobs': None,\n",
       " 'oob_score': False,\n",
       " 'random_state': None,\n",
       " 'verbose': 0,\n",
       " 'warm_start': False}"
      ]
     },
     "execution_count": 104,
     "metadata": {},
     "output_type": "execute_result"
    }
   ],
   "source": [
    "rf1.get_params()"
   ]
  },
  {
   "cell_type": "markdown",
   "metadata": {},
   "source": [
    "With default setting, we see that the model has better performance on test data but the training data f1 score is very high, signifying a overfitting. "
   ]
  },
  {
   "cell_type": "markdown",
   "metadata": {},
   "source": [
    "### Model 2\n",
    "1. Using optimal max_depth \n",
    "2. Class_weight = \"balanced_subsample\" - Same as balanced but the ratio is computed for each tree based on the bootstrapped data considered"
   ]
  },
  {
   "cell_type": "code",
   "execution_count": 401,
   "metadata": {},
   "outputs": [
    {
     "data": {
      "image/png": "[encoded data removed]",
      "text/plain": [
       "<Figure size 720x720 with 1 Axes>"
      ]
     },
     "metadata": {},
     "output_type": "display_data"
    }
   ],
   "source": [
    "max_depths = np.linspace(1, 32, 32, endpoint=True)\n",
    "train_results = []\n",
    "test_results = []\n",
    "for max_depth in max_depths:\n",
    "   rf2=RandomForestClassifier(max_depth=max_depth,n_estimators=30)\n",
    "   rf2.fit(X_train_enc, y_train)\n",
    "   train_pred = rf2.predict(X_train_enc)\n",
    "   false_positive_rate, true_positive_rate, thresholds = roc_curve(y_train, train_pred)\n",
    "   roc_auc = auc(false_positive_rate, true_positive_rate)\n",
    "\n",
    "   train_results.append(roc_auc)\n",
    "   y_pred = rf2.predict(X_val_enc)\n",
    "   false_positive_rate, true_positive_rate, thresholds = roc_curve(y_val, y_pred)\n",
    "   roc_auc = auc(false_positive_rate, true_positive_rate)\n",
    "\n",
    "   test_results.append(roc_auc)\n",
    "plt.figure(figsize=(10,10))\n",
    "line1, = plt.plot(max_depths, train_results, 'b', label=\"Train AUC\")\n",
    "line2, = plt.plot(max_depths, test_results, 'r', label=\"Val AUC\")\n",
    "plt.legend(handler_map={line1: HandlerLine2D(numpoints=2)})\n",
    "plt.ylabel('AUC score')\n",
    "plt.xlabel('Tree depth')\n",
    "plt.show()"
   ]
  },
  {
   "cell_type": "code",
   "execution_count": 203,
   "metadata": {},
   "outputs": [
    {
     "name": "stdout",
     "output_type": "stream",
     "text": [
      "('Train data f1 score: ', 0.8037924879565477)\n",
      "('Test data f1 score: ', 0.7671040299906279)\n"
     ]
    }
   ],
   "source": [
    "rf2=RandomForestClassifier(max_depth=15,class_weight=\"balanced_subsample\")\n",
    "rf2.fit(X_train_enc,y_train)\n",
    "y_pred_rf2=rf2.predict(X_val_enc)\n",
    "y_pred_rf2_train=rf2.predict(X_train_enc)\n",
    "\n",
    "print(\"Train data f1 score: \", f1_score(y_train,y_pred_rf2_train))\n",
    "print(\"Test data f1 score: \", f1_score(y_val,y_pred_rf2))"
   ]
  },
  {
   "cell_type": "markdown",
   "metadata": {},
   "source": [
    "### Model 3\n",
    "1. Increase number of estimators to 80; It increases the training time "
   ]
  },
  {
   "cell_type": "code",
   "execution_count": 400,
   "metadata": {},
   "outputs": [
    {
     "name": "stdout",
     "output_type": "stream",
     "text": [
      "('Train data f1 score: ', 0.8044895414092172)\n",
      "('Test data f1 score: ', 0.7721949812518026)\n"
     ]
    }
   ],
   "source": [
    "rf3=RandomForestClassifier(max_depth=15,class_weight=\"balanced_subsample\",n_estimators=80)\n",
    "rf3.fit(X_train_enc,y_train)\n",
    "y_pred_rf3=rf3.predict(X_val_enc)\n",
    "y_pred_rf3_train=rf3.predict(X_train_enc)\n",
    "\n",
    "print(\"Train data f1 score: \", f1_score(y_train,y_pred_rf3_train))\n",
    "print(\"Test data f1 score: \", f1_score(y_val,y_pred_rf3))"
   ]
  },
  {
   "cell_type": "markdown",
   "metadata": {},
   "source": [
    "## ROC curve\n",
    "We will compare the best versions of the 2 classifiers we have trained so far in classification session -\n",
    "1. Decision tree model \n",
    "2. Random forest"
   ]
  },
  {
   "cell_type": "markdown",
   "metadata": {},
   "source": [
    "Decision Tree"
   ]
  },
  {
   "cell_type": "code",
   "execution_count": 377,
   "metadata": {},
   "outputs": [],
   "source": [
    "y_test = backup_test[\"is_canceled\"]\n",
    "X_test = backup_test.drop([\"is_canceled\"], axis=1).drop('reservation_status',axis=1)\\\n",
    ".drop('arrival_date_month',axis=1).drop('reserved_room_type',axis=1).drop('market_segment',axis=1)\n",
    "\n",
    "cat_cols=['hotel','arrival_date_year','meal','distribution_channel', 'assigned_room_type',\\\n",
    "        'deposit_type','customer_type']\n",
    "\n",
    "X_test_enc = pd.get_dummies(data=X_test,columns=cat_cols,drop_first=True)\n",
    "X_train_enc,X_test_enc =X_train_enc.align(X_test_enc, join='left', axis=1)\n",
    "X_test_enc=X_test_enc.fillna(0)"
   ]
  },
  {
   "cell_type": "code",
   "execution_count": 378,
   "metadata": {},
   "outputs": [],
   "source": [
    "y_prob6 = clf6.predict_proba(X_test_enc)\n",
    "false_positive_rateDT, true_positive_rateDT, thresholdDT = roc_curve(y_test, y_prob6[:,1])\n",
    "roc_aucDT = auc(false_positive_rateDT, true_positive_rateDT)"
   ]
  },
  {
   "cell_type": "markdown",
   "metadata": {},
   "source": [
    "Random Forest"
   ]
  },
  {
   "cell_type": "code",
   "execution_count": 253,
   "metadata": {},
   "outputs": [],
   "source": [
    "y_test = backup_test[\"is_canceled\"]\n",
    "X_test = backup_test.drop([\"is_canceled\"], axis=1).drop('reservation_status',axis=1)\n",
    "cat_cols=['hotel','arrival_date_month','arrival_date_year','meal','market_segment','distribution_channel','reserved_room_type', 'assigned_room_type',\\\n",
    "        'deposit_type','customer_type']\n",
    "X_test_enc = pd.get_dummies(data=X_test,columns=cat_cols,drop_first=True)\n",
    "X_train_enc,X_test_enc =X_train_enc.align(X_test_enc, join='left', axis=1)\n",
    "X_test_enc=X_test_enc.fillna(0)"
   ]
  },
  {
   "cell_type": "code",
   "execution_count": 255,
   "metadata": {},
   "outputs": [],
   "source": [
    "y_prob_rf = rf3.predict_proba(X_test_enc)\n",
    "false_positive_rateRF, true_positive_rateRF, thresholdRF = roc_curve(y_test, y_prob_rf[:,1])\n",
    "roc_aucRF = auc(false_positive_rateRF, true_positive_rateRF)"
   ]
  },
  {
   "cell_type": "code",
   "execution_count": 379,
   "metadata": {},
   "outputs": [
    {
     "data": {
      "text/plain": [
       "Text(0.5,0,'False Positive Rate')"
      ]
     },
     "execution_count": 379,
     "metadata": {},
     "output_type": "execute_result"
    },
    {
     "data": {
      "image/png": "[encoded data removed]",
      "text/plain": [
       "<Figure size 720x720 with 1 Axes>"
      ]
     },
     "metadata": {},
     "output_type": "display_data"
    }
   ],
   "source": [
    "plt.figure(figsize = (10,10))\n",
    "plt.title('Receiver Operating Characteristic')\n",
    "plt.plot(false_positive_rateDT, true_positive_rateDT, color = 'red', label = 'DT AUC = %0.2f' % roc_aucDT)\n",
    "plt.plot(false_positive_rateRF, true_positive_rateRF, color = 'green', label = 'RF AUC = %0.2f' % roc_aucRF)\n",
    "# plt.plot(false_positive_rateNB, true_positive_rateNB, color = 'yellow', label = 'NB AUC = %0.2f' % roc_aucNB)\n",
    "plt.legend(loc = 'lower right')\n",
    "plt.plot([0, 1], [0, 1], linestyle = '--')\n",
    "plt.axis('tight')\n",
    "plt.ylabel('True Positive Rate')\n",
    "plt.xlabel('False Positive Rate')"
   ]
  },
  {
   "cell_type": "markdown",
   "metadata": {},
   "source": [
    "We see that Random forest has the best performance among the 2 models"
   ]
  },
  {
   "cell_type": "code",
   "execution_count": null,
   "metadata": {},
   "outputs": [],
   "source": []
  }
 ],
 "metadata": {
  "kernelspec": {
   "display_name": "Python 2",
   "language": "python",
   "name": "python2"
  },
  "language_info": {
   "codemirror_mode": {
    "name": "ipython",
    "version": 2
   },
   "file_extension": ".py",
   "mimetype": "text/x-python",
   "name": "python",
   "nbconvert_exporter": "python",
   "pygments_lexer": "ipython2",
   "version": "2.7.16"
  }
 },
 "nbformat": 4,
 "nbformat_minor": 2
}
